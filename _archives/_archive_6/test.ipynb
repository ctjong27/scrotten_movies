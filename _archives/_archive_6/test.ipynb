{
 "cells": [
  {
   "cell_type": "code",
   "execution_count": 3,
   "metadata": {},
   "outputs": [
    {
     "name": "stdout",
     "output_type": "stream",
     "text": [
      "Q0: 0.6\n",
      "Q1: 1.474\n",
      "Q2: 3.254\n",
      "Q3: 7.54\n",
      "Q4: 698.9\n"
     ]
    }
   ],
   "source": [
    "import pandas as pd\n",
    "import numpy as np\n",
    "\n",
    "# Load data\n",
    "df = pd.read_csv('../data/tv_export_data.csv')\n",
    "\n",
    "# Calculate quartiles\n",
    "quartiles = df['cast_popularity'].describe()\n",
    "\n",
    "print(f\"Q0: {df['cast_popularity'].min()}\")\n",
    "print(f\"Q1: {quartiles['25%']}\")\n",
    "print(f\"Q2: {quartiles['50%']}\")\n",
    "print(f\"Q3: {quartiles['75%']}\")\n",
    "print(f\"Q4: {df['cast_popularity'].max()}\")\n",
    "\n"
   ]
  },
  {
   "cell_type": "code",
   "execution_count": 4,
   "metadata": {},
   "outputs": [
    {
     "name": "stdout",
     "output_type": "stream",
     "text": [
      "Minimum: 0.6\n",
      "Q1: 1.474\n",
      "Median (Q2): 3.254\n",
      "Q3: 7.54\n",
      "Maximum: 698.9\n",
      "Mean: 5.956827209326012\n",
      "Standard Deviation: 9.00838913033668\n",
      "95th percentile: 19.728\n"
     ]
    }
   ],
   "source": [
    "import pandas as pd\n",
    "\n",
    "# Load data\n",
    "df = pd.read_csv('../data/tv_export_data.csv')\n",
    "\n",
    "# Calculate quartiles and other statistics\n",
    "desc = df['cast_popularity'].describe()\n",
    "\n",
    "# Calculate 95th percentile\n",
    "percentile_95 = df['cast_popularity'].quantile(0.95)\n",
    "\n",
    "print(f\"Minimum: {desc['min']}\")\n",
    "print(f\"Q1: {desc['25%']}\")\n",
    "print(f\"Median (Q2): {desc['50%']}\")\n",
    "print(f\"Q3: {desc['75%']}\")\n",
    "print(f\"Maximum: {desc['max']}\")\n",
    "print(f\"Mean: {desc['mean']}\")\n",
    "print(f\"Standard Deviation: {desc['std']}\")\n",
    "print(f\"95th percentile: {percentile_95}\")\n"
   ]
  },
  {
   "cell_type": "code",
   "execution_count": 7,
   "metadata": {},
   "outputs": [
    {
     "name": "stdout",
     "output_type": "stream",
     "text": [
      "Minimum: 0.0\n",
      "Q1: 0.0\n",
      "Median (Q2): 6.9\n",
      "Q3: 7.8\n",
      "Maximum: 10.0\n",
      "Mean: 4.810851405930941\n",
      "Standard Deviation: 3.672889783644149\n",
      "95th percentile: 8.8\n"
     ]
    }
   ],
   "source": [
    "import pandas as pd\n",
    "\n",
    "# Load data\n",
    "df = pd.read_csv('../data/tv_export_data.csv')\n",
    "\n",
    "# Calculate quartiles and other statistics\n",
    "desc = df['season_vote_average'].describe()\n",
    "\n",
    "# Calculate 95th percentile\n",
    "percentile_95 = df['season_vote_average'].quantile(0.95)\n",
    "\n",
    "print(f\"Minimum: {desc['min']}\")\n",
    "print(f\"Q1: {desc['25%']}\")\n",
    "print(f\"Median (Q2): {desc['50%']}\")\n",
    "print(f\"Q3: {desc['75%']}\")\n",
    "print(f\"Maximum: {desc['max']}\")\n",
    "print(f\"Mean: {desc['mean']}\")\n",
    "print(f\"Standard Deviation: {desc['std']}\")\n",
    "print(f\"95th percentile: {percentile_95}\")\n"
   ]
  },
  {
   "cell_type": "code",
   "execution_count": null,
   "metadata": {},
   "outputs": [],
   "source": []
  },
  {
   "cell_type": "code",
   "execution_count": 5,
   "metadata": {},
   "outputs": [
    {
     "name": "stdout",
     "output_type": "stream",
     "text": [
      "gender_race  season_number  Female__total_  Female_asian  Female_black  \\\n",
      "0                        1        186536.0        9801.0        8665.0   \n",
      "1                        2        144339.0        8576.0        8201.0   \n",
      "2                        3        103572.0        6883.0        6714.0   \n",
      "3                        4         83477.0        5080.0        4931.0   \n",
      "4                        5         60923.0        3736.0        3404.0   \n",
      "..                     ...             ...           ...           ...   \n",
      "113                   2019             0.0           0.0           0.0   \n",
      "114                   2020             0.0           0.0           0.0   \n",
      "115                   2021            53.0          53.0           0.0   \n",
      "116                   2022            58.0          53.0           0.0   \n",
      "117                   2023            57.0          52.0           0.0   \n",
      "\n",
      "gender_race  Female_indian  Female_latino hispanic  Female_middle eastern  \\\n",
      "0                    733.0                 12402.0                 1403.0   \n",
      "1                    547.0                 11538.0                  929.0   \n",
      "2                    315.0                  9453.0                  783.0   \n",
      "3                    321.0                  7381.0                  439.0   \n",
      "4                    247.0                  5442.0                  361.0   \n",
      "..                     ...                     ...                    ...   \n",
      "113                    0.0                     0.0                    0.0   \n",
      "114                    0.0                     0.0                    0.0   \n",
      "115                    0.0                     0.0                    0.0   \n",
      "116                    0.0                     1.0                    0.0   \n",
      "117                    0.0                     2.0                    0.0   \n",
      "\n",
      "gender_race  Female_white  Male__total_  Male_asian  ...  \\\n",
      "0                153532.0      481086.0     24957.0  ...   \n",
      "1                114548.0      346003.0     19162.0  ...   \n",
      "2                 79424.0      249744.0     13998.0  ...   \n",
      "3                 65325.0      203917.0     11300.0  ...   \n",
      "4                 47733.0      152928.0      8427.0  ...   \n",
      "..                    ...           ...         ...  ...   \n",
      "113                   0.0         104.0         0.0  ...   \n",
      "114                   0.0         104.0         0.0  ...   \n",
      "115                   0.0          53.0         0.0  ...   \n",
      "116                   4.0          58.0         0.0  ...   \n",
      "117                   3.0          58.0         2.0  ...   \n",
      "\n",
      "gender_race  Male_latino hispanic  Male_middle eastern  Male_white  \\\n",
      "0                         51900.0              38200.0    329471.0   \n",
      "1                         35794.0              26644.0    233022.0   \n",
      "2                         25926.0              19050.0    166435.0   \n",
      "3                         21617.0              14979.0    136231.0   \n",
      "4                         16769.0              10931.0    101888.0   \n",
      "..                            ...                  ...         ...   \n",
      "113                           0.0                  0.0       104.0   \n",
      "114                           0.0                  0.0       104.0   \n",
      "115                           0.0                  0.0        53.0   \n",
      "116                           0.0                  0.0        58.0   \n",
      "117                           0.0                  0.0        54.0   \n",
      "\n",
      "gender_race  Undetermined__total_  Undetermined_asian  Undetermined_black  \\\n",
      "0                         17556.0              1916.0              1446.0   \n",
      "1                         13439.0              1344.0              1334.0   \n",
      "2                          9002.0              1103.0               800.0   \n",
      "3                          6626.0               785.0               700.0   \n",
      "4                          4891.0               724.0               480.0   \n",
      "..                            ...                 ...                 ...   \n",
      "113                           0.0                 0.0                 0.0   \n",
      "114                           0.0                 0.0                 0.0   \n",
      "115                           0.0                 0.0                 0.0   \n",
      "116                           0.0                 0.0                 0.0   \n",
      "117                           0.0                 0.0                 0.0   \n",
      "\n",
      "gender_race  Undetermined_indian  Undetermined_latino hispanic  \\\n",
      "0                           14.0                        1817.0   \n",
      "1                           21.0                        1525.0   \n",
      "2                            4.0                         999.0   \n",
      "3                            3.0                         858.0   \n",
      "4                           17.0                         423.0   \n",
      "..                           ...                           ...   \n",
      "113                          0.0                           0.0   \n",
      "114                          0.0                           0.0   \n",
      "115                          0.0                           0.0   \n",
      "116                          0.0                           0.0   \n",
      "117                          0.0                           0.0   \n",
      "\n",
      "gender_race  Undetermined_middle eastern  Undetermined_white  \n",
      "0                                  305.0             12058.0  \n",
      "1                                  286.0              8929.0  \n",
      "2                                  245.0              5851.0  \n",
      "3                                  220.0              4060.0  \n",
      "4                                  218.0              3029.0  \n",
      "..                                   ...                 ...  \n",
      "113                                  0.0                 0.0  \n",
      "114                                  0.0                 0.0  \n",
      "115                                  0.0                 0.0  \n",
      "116                                  0.0                 0.0  \n",
      "117                                  0.0                 0.0  \n",
      "\n",
      "[118 rows x 22 columns]\n"
     ]
    }
   ],
   "source": [
    "import pandas as pd\n",
    "\n",
    "# Load data\n",
    "df = pd.read_csv('../data/tv_export_data.csv')\n",
    "\n",
    "# Create new column 'gender_race'\n",
    "df['gender_race'] = df['profile_gender'] + \"_\" + df['profile_race']\n",
    "\n",
    "# Group by 'season_number' and 'gender_race', sum 'episode_count'\n",
    "grouped_df = df.groupby(['season_number', 'gender_race'])['episode_count'].sum().reset_index()\n",
    "\n",
    "# Pivot the data to get each 'gender_race' as a separate column\n",
    "pivot_df = grouped_df.pivot(index='season_number', columns='gender_race', values='episode_count').reset_index().fillna(0)\n",
    "\n",
    "print(pivot_df)\n"
   ]
  },
  {
   "cell_type": "code",
   "execution_count": 6,
   "metadata": {},
   "outputs": [
    {
     "ename": "KeyError",
     "evalue": "'white_male'",
     "output_type": "error",
     "traceback": [
      "\u001b[1;31m---------------------------------------------------------------------------\u001b[0m",
      "\u001b[1;31mKeyError\u001b[0m                                  Traceback (most recent call last)",
      "File \u001b[1;32mc:\\Users\\cjong\\Projects\\python\\scrotten_movies\\.venv\\Lib\\site-packages\\pandas\\core\\indexes\\base.py:3653\u001b[0m, in \u001b[0;36mIndex.get_loc\u001b[1;34m(self, key)\u001b[0m\n\u001b[0;32m   3652\u001b[0m \u001b[39mtry\u001b[39;00m:\n\u001b[1;32m-> 3653\u001b[0m     \u001b[39mreturn\u001b[39;00m \u001b[39mself\u001b[39;49m\u001b[39m.\u001b[39;49m_engine\u001b[39m.\u001b[39;49mget_loc(casted_key)\n\u001b[0;32m   3654\u001b[0m \u001b[39mexcept\u001b[39;00m \u001b[39mKeyError\u001b[39;00m \u001b[39mas\u001b[39;00m err:\n",
      "File \u001b[1;32mc:\\Users\\cjong\\Projects\\python\\scrotten_movies\\.venv\\Lib\\site-packages\\pandas\\_libs\\index.pyx:147\u001b[0m, in \u001b[0;36mpandas._libs.index.IndexEngine.get_loc\u001b[1;34m()\u001b[0m\n",
      "File \u001b[1;32mc:\\Users\\cjong\\Projects\\python\\scrotten_movies\\.venv\\Lib\\site-packages\\pandas\\_libs\\index.pyx:176\u001b[0m, in \u001b[0;36mpandas._libs.index.IndexEngine.get_loc\u001b[1;34m()\u001b[0m\n",
      "File \u001b[1;32mpandas\\_libs\\hashtable_class_helper.pxi:7080\u001b[0m, in \u001b[0;36mpandas._libs.hashtable.PyObjectHashTable.get_item\u001b[1;34m()\u001b[0m\n",
      "File \u001b[1;32mpandas\\_libs\\hashtable_class_helper.pxi:7088\u001b[0m, in \u001b[0;36mpandas._libs.hashtable.PyObjectHashTable.get_item\u001b[1;34m()\u001b[0m\n",
      "\u001b[1;31mKeyError\u001b[0m: 'white_male'",
      "\nThe above exception was the direct cause of the following exception:\n",
      "\u001b[1;31mKeyError\u001b[0m                                  Traceback (most recent call last)",
      "Cell \u001b[1;32mIn[6], line 17\u001b[0m\n\u001b[0;32m     14\u001b[0m pivot_df \u001b[39m=\u001b[39m grouped_df\u001b[39m.\u001b[39mpivot(index\u001b[39m=\u001b[39m\u001b[39m'\u001b[39m\u001b[39mseason_number\u001b[39m\u001b[39m'\u001b[39m, columns\u001b[39m=\u001b[39m\u001b[39m'\u001b[39m\u001b[39mgender_race\u001b[39m\u001b[39m'\u001b[39m, values\u001b[39m=\u001b[39m\u001b[39m'\u001b[39m\u001b[39mepisode_count\u001b[39m\u001b[39m'\u001b[39m)\u001b[39m.\u001b[39mreset_index()\u001b[39m.\u001b[39mfillna(\u001b[39m0\u001b[39m)\n\u001b[0;32m     16\u001b[0m \u001b[39m# Create histogram for 'white_male'\u001b[39;00m\n\u001b[1;32m---> 17\u001b[0m plt\u001b[39m.\u001b[39mhist(pivot_df[\u001b[39m'\u001b[39;49m\u001b[39mwhite_male\u001b[39;49m\u001b[39m'\u001b[39;49m], bins\u001b[39m=\u001b[39m\u001b[39m20\u001b[39m, color\u001b[39m=\u001b[39m\u001b[39m'\u001b[39m\u001b[39mblue\u001b[39m\u001b[39m'\u001b[39m, edgecolor\u001b[39m=\u001b[39m\u001b[39m'\u001b[39m\u001b[39mblack\u001b[39m\u001b[39m'\u001b[39m)\n\u001b[0;32m     18\u001b[0m plt\u001b[39m.\u001b[39mtitle(\u001b[39m'\u001b[39m\u001b[39mDistribution of Episode Counts for White Males Across Different Seasons\u001b[39m\u001b[39m'\u001b[39m)\n\u001b[0;32m     19\u001b[0m plt\u001b[39m.\u001b[39mxlabel(\u001b[39m'\u001b[39m\u001b[39mEpisode Count\u001b[39m\u001b[39m'\u001b[39m)\n",
      "File \u001b[1;32mc:\\Users\\cjong\\Projects\\python\\scrotten_movies\\.venv\\Lib\\site-packages\\pandas\\core\\frame.py:3761\u001b[0m, in \u001b[0;36mDataFrame.__getitem__\u001b[1;34m(self, key)\u001b[0m\n\u001b[0;32m   3759\u001b[0m \u001b[39mif\u001b[39;00m \u001b[39mself\u001b[39m\u001b[39m.\u001b[39mcolumns\u001b[39m.\u001b[39mnlevels \u001b[39m>\u001b[39m \u001b[39m1\u001b[39m:\n\u001b[0;32m   3760\u001b[0m     \u001b[39mreturn\u001b[39;00m \u001b[39mself\u001b[39m\u001b[39m.\u001b[39m_getitem_multilevel(key)\n\u001b[1;32m-> 3761\u001b[0m indexer \u001b[39m=\u001b[39m \u001b[39mself\u001b[39;49m\u001b[39m.\u001b[39;49mcolumns\u001b[39m.\u001b[39;49mget_loc(key)\n\u001b[0;32m   3762\u001b[0m \u001b[39mif\u001b[39;00m is_integer(indexer):\n\u001b[0;32m   3763\u001b[0m     indexer \u001b[39m=\u001b[39m [indexer]\n",
      "File \u001b[1;32mc:\\Users\\cjong\\Projects\\python\\scrotten_movies\\.venv\\Lib\\site-packages\\pandas\\core\\indexes\\base.py:3655\u001b[0m, in \u001b[0;36mIndex.get_loc\u001b[1;34m(self, key)\u001b[0m\n\u001b[0;32m   3653\u001b[0m     \u001b[39mreturn\u001b[39;00m \u001b[39mself\u001b[39m\u001b[39m.\u001b[39m_engine\u001b[39m.\u001b[39mget_loc(casted_key)\n\u001b[0;32m   3654\u001b[0m \u001b[39mexcept\u001b[39;00m \u001b[39mKeyError\u001b[39;00m \u001b[39mas\u001b[39;00m err:\n\u001b[1;32m-> 3655\u001b[0m     \u001b[39mraise\u001b[39;00m \u001b[39mKeyError\u001b[39;00m(key) \u001b[39mfrom\u001b[39;00m \u001b[39merr\u001b[39;00m\n\u001b[0;32m   3656\u001b[0m \u001b[39mexcept\u001b[39;00m \u001b[39mTypeError\u001b[39;00m:\n\u001b[0;32m   3657\u001b[0m     \u001b[39m# If we have a listlike key, _check_indexing_error will raise\u001b[39;00m\n\u001b[0;32m   3658\u001b[0m     \u001b[39m#  InvalidIndexError. Otherwise we fall through and re-raise\u001b[39;00m\n\u001b[0;32m   3659\u001b[0m     \u001b[39m#  the TypeError.\u001b[39;00m\n\u001b[0;32m   3660\u001b[0m     \u001b[39mself\u001b[39m\u001b[39m.\u001b[39m_check_indexing_error(key)\n",
      "\u001b[1;31mKeyError\u001b[0m: 'white_male'"
     ]
    }
   ],
   "source": [
    "import pandas as pd\n",
    "import matplotlib.pyplot as plt\n",
    "\n",
    "# Load data\n",
    "df = pd.read_csv('../data/tv_export_data.csv')\n",
    "\n",
    "# Create new column 'gender_race'\n",
    "df['gender_race'] = df['profile_gender'] + \"_\" + df['profile_race']\n",
    "\n",
    "# Group by 'season_number' and 'gender_race', sum 'episode_count'\n",
    "grouped_df = df.groupby(['season_number', 'gender_race'])['episode_count'].sum().reset_index()\n",
    "\n",
    "# Pivot the data to get each 'gender_race' as a separate column\n",
    "pivot_df = grouped_df.pivot(index='season_number', columns='gender_race', values='episode_count').reset_index().fillna(0)\n",
    "\n",
    "# Create histogram for 'white_male'\n",
    "plt.hist(pivot_df['white_male'], bins=20, color='blue', edgecolor='black')\n",
    "plt.title('Distribution of Episode Counts for White Males Across Different Seasons')\n",
    "plt.xlabel('Episode Count')\n",
    "plt.ylabel('Frequency')\n",
    "plt.show()\n"
   ]
  }
 ],
 "metadata": {
  "kernelspec": {
   "display_name": ".venv",
   "language": "python",
   "name": "python3"
  },
  "language_info": {
   "codemirror_mode": {
    "name": "ipython",
    "version": 3
   },
   "file_extension": ".py",
   "mimetype": "text/x-python",
   "name": "python",
   "nbconvert_exporter": "python",
   "pygments_lexer": "ipython3",
   "version": "3.11.3"
  },
  "orig_nbformat": 4
 },
 "nbformat": 4,
 "nbformat_minor": 2
}
