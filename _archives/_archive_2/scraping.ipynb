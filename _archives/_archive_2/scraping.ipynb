{
 "cells": [
  {
   "attachments": {},
   "cell_type": "markdown",
   "metadata": {},
   "source": [
    "Based on the work found at\n",
    "https://jovian.com/munimadhav/project-web-scraping-oscar-winning-movies-imdb-4ffed"
   ]
  },
  {
   "attachments": {},
   "cell_type": "markdown",
   "metadata": {},
   "source": [
    "### Extract the information and the data that we are trying to about the movies\n",
    "\n",
    "**Before we build through the whole script - lets work thru the attributes we want and how to get those attributes with one movie from the container**\n",
    "\n",
    "For the project, goal is to extract the following detail for the movies list:\n",
    "- movie_id\n",
    "- name \n",
    "- genre \n",
    "- year\n",
    "- gross\n",
    "- rating\n",
    "- certificate (Public rating eg. R PG13)\n",
    "- duration \n",
    "- rating_count\n",
    "- oscar_wins (no longer app)\n",
    "- oscar_nominations (no longer app)\n",
    "\n",
    "-----\n",
    "\n",
    "For each project, the following member association is desired\n",
    "(found from https://www.imdb.com/title/{movie_id}/fullcredits)\n",
    "- movie_id\n",
    "- member_id\n",
    "- association_type\n",
    "\n",
    "### As I am specifically interested in the gender and racial representation on screen, I am focusing my interests in members in the following categories\n",
    "- Directing\n",
    "- Writing\n",
    "- Casted\n",
    "- Producing\n",
    "- Stars (Found on movies page)\n",
    "- Casting & Casting Department\n",
    "\n",
    "-----\n",
    "\n",
    "For each member, the following information is desired\n",
    "- member_id\n",
    "- name\n",
    "- birth_year\n",
    "- gender\n",
    "- race\n",
    "- first_movie_year\n",
    "- last_movie_year\n",
    "- total_movie_count\n"
   ]
  },
  {
   "attachments": {},
   "cell_type": "markdown",
   "metadata": {},
   "source": [
    "\n",
    "For the project, goal is to extract the following detail for the movies list:\n",
    "- movie_id\n",
    "```\n",
    " - found in <script type=\"application/ld+json\"> - json - url\n",
    "```\n",
    "- url\n",
    "```\n",
    " - found in <script type=\"application/ld+json\"> - json - url\n",
    "```\n",
    "- name \n",
    "```\n",
    " - found in <script type=\"application/ld+json\"> - json - name\n",
    "```\n",
    "- genre \n",
    "```\n",
    " - found in <script type=\"application/ld+json\"> - json - genre\n",
    "```\n",
    "- year\n",
    "```\n",
    " - found in <script type=\"application/ld+json\"> - json - datePublished\n",
    "```\n",
    "- rating_count\n",
    "```\n",
    " - found in <script type=\"application/ld+json\"> - json - aggregateRating - ratingCount\n",
    "```\n",
    "- rating_value\n",
    "```\n",
    " - found in <script type=\"application/ld+json\"> - json - aggregateRating - ratingValue\n",
    "```\n",
    "- gross (May not be needed)\n",
    "- certificate (Public rating eg. R PG13) (May not be needed)\n",
    "- duration (May not be needed)\n",
    "- oscar_wins (May not be needed, but if needed re-filtering from the search view can get the information)\n",
    "- oscar_nominations (May not be needed, but if needed re-filtering from the search view can get the information)"
   ]
  },
  {
   "attachments": {},
   "cell_type": "markdown",
   "metadata": {},
   "source": [
    "-----\n",
    "-----\n",
    "Logic\n",
    "\n",
    "Loop through the list of all oscar winning and nominated movies.\n",
    "\n",
    "For each movie, iterate through the following\n",
    "- Director\n",
    "```\n",
    "<h4 name=\"director\" id=\"director\" class=\"dataHeaderWithBorder\">Directed by</h4>\n",
    "```\n",
    "- Writer\n",
    "```\n",
    "<h4 name=\"writer\" id=\"writer\" class=\"dataHeaderWithBorder\">Writing Credits</h4>\n",
    "```\n",
    "- Cast\n",
    "```\n",
    "In <table class=\"cast_list\">, between <td colspan=\"4\" class=\"castlist_label\"></td> and <td colspan=\"4\" class=\"castlist_label\">Rest of cast listed alphabetically:</td>\n",
    "```\n",
    "- Producing\n",
    "```\n",
    "<h4 name=\"producer\" id=\"producer\" class=\"dataHeaderWithBorder\">\n",
    "```\n",
    "- Casting & Casting Department\n",
    "```\n",
    "<h4 name=\"casting_director\" id=\"casting_director\" class=\"dataHeaderWithBorder\">\n",
    "```\n",
    "```\n",
    "<h4 name=\"casting_department\" id=\"casting_department\" class=\"dataHeaderWithBorder\">…</h4>\n",
    "``` \n"
   ]
  },
  {
   "attachments": {},
   "cell_type": "markdown",
   "metadata": {},
   "source": [
    "\n",
    "For each member, verify whether or not member exists in member datatable. If individual exists, move onto next individual.\n",
    "\n",
    "\n",
    "## SEE IF INFORMATION CAN BE SCRAED FROM JSON AT \n",
    "\n",
    "If individual does not exit, add a new member data entry\n",
    "- member_id\n",
    "```\n",
    " - found in <script type=\"application/ld+json\"> - json - url\n",
    " - found after https://www.imdb.com/name/\n",
    "```\n",
    "- url\n",
    "```\n",
    " - found in <script type=\"application/ld+json\"> - json - url\n",
    "```\n",
    "- name\n",
    "```\n",
    " - found in <script type=\"application/ld+json\"> - json - name\n",
    "```\n",
    "- birth_year\n",
    "```\n",
    " - found in <script type=\"application/ld+json\"> - json - birthDate\n",
    "```\n",
    "- job title (List)\n",
    "```\n",
    " - found in <script type=\"application/ld+json\"> - json - jobTitle\n",
    "```\n",
    "- gender\n",
    "```\n",
    " - based on image found at <script type=\"application/ld+json\"> - json - image, or below\n",
    " <div class=\"ipc-media ipc-media--poster-27x40 ipc-image-media-ratio--poster-27x40 ipc-media--baseAlt ipc-media--poster-s ipc-poster__poster-image ipc-media__img\" style=\"width:100%\">flex\n",
    " ```\n",
    "- race\n",
    "```\n",
    " - based on image found at <script type=\"application/ld+json\"> - json - image, or below\n",
    " <div class=\"ipc-media ipc-media--poster-27x40 ipc-image-media-ratio--poster-27x40 ipc-media--baseAlt ipc-media--poster-s ipc-poster__poster-image ipc-media__img\" style=\"width:100%\">flex\n",
    " ```\n"
   ]
  },
  {
   "attachments": {},
   "cell_type": "markdown",
   "metadata": {},
   "source": [
    "Order of the looping logic\n",
    "\n",
    "---\n",
    "\n",
    "Start with search result of movie list (expansion into tv shows is tentative) (Starting with oscar nominees but may expand to all movies)\n",
    "\n",
    "In the iteration of each movie, store the movie_id data into the 'movies' datatable\n",
    "\n",
    "---\n",
    "\n",
    "For each of the 'movies' iteration, enter the website and retrieve the rest of 'movies' datatable column data\n",
    "\n",
    "---\n",
    "\n",
    "Once 'movies' datatable is populated, run through the /fullcredits/ site in order to retrieve all associated members\n",
    "\n",
    "For each individual listing, populate 'movie_member_associations' table\n",
    "- Additional logic needs to handle duplicate member for same role\n",
    " - Actually, this may be as simple as running a data_table search and skipping if already exists\n",
    "\n",
    "---\n",
    "\n",
    "For each unique member_id in 'movie_member_association', enter the members' website to scrape and store data"
   ]
  },
  {
   "cell_type": "code",
   "execution_count": 12,
   "metadata": {},
   "outputs": [
    {
     "data": {
      "text/plain": [
       "'2.31.0'"
      ]
     },
     "execution_count": 12,
     "metadata": {},
     "output_type": "execute_result"
    }
   ],
   "source": [
    "import requests #packages that is used to download the content from web\n",
    "import urllib # packages that is used to work with URL libraries\n",
    "import requests #package built to make HTTP requests user friendly\n",
    "import os # package used for file process\n",
    "import re # package for regular expression - best to have it dont know if it is required or not\n",
    "from bs4 import BeautifulSoup #a Python library for pulling data out of HTML and XML files\n",
    "import pandas as pd # the omnipresent of all python to work with dataframes\n",
    "requests.__version__ # check the version of the package"
   ]
  },
  {
   "cell_type": "code",
   "execution_count": 13,
   "metadata": {},
   "outputs": [
    {
     "name": "stdout",
     "output_type": "stream",
     "text": [
      "\n",
      "\n",
      "<!DOCTYPE html>\n",
      "<html\n",
      "    xmlns:og=\"http://ogp.me/ns#\"\n",
      "    xmlns:fb=\"http://www.facebook.com/2008/fbml\">\n",
      "    <head>\n",
      "         \n",
      "\n",
      "        <meta charset=\"utf-8\">\n",
      "\n",
      "\n",
      "\n",
      "\n",
      "        <script type=\"text/javascrip\n"
     ]
    }
   ],
   "source": [
    "### Download the page using requests for 2017 Movies\n",
    "#https://www.imdb.com/search/title/?title_type=feature,tv_movie&release_date=1900-01-01,2100-12-31&groups=oscar_winner,oscar_nominee&countries=us&sort=year,asc&count=10000\n",
    "oscar_url = 'https://www.imdb.com/search/title/?release_date=2017&groups=oscar_winner' \n",
    "oscar_resp = requests.get(oscar_url) #get the content of the url from the request package.\n",
    "print(oscar_resp.text[:200]) # look at the snapshot of the content"
   ]
  },
  {
   "cell_type": "code",
   "execution_count": 14,
   "metadata": {},
   "outputs": [],
   "source": [
    "oscar_soup = BeautifulSoup(oscar_resp.text, 'html.parser') # with the response text created - parse the html"
   ]
  },
  {
   "cell_type": "code",
   "execution_count": 15,
   "metadata": {},
   "outputs": [
    {
     "name": "stdout",
     "output_type": "stream",
     "text": [
      "Containers is of type:  <class 'bs4.element.ResultSet'>\n",
      "Number of movies in the container: 14\n"
     ]
    }
   ],
   "source": [
    "oscar_containers = oscar_soup.find_all(\"div\",{\"class\" : \"lister-item mode-advanced\"}) # get all the containers \n",
    "print('Containers is of type: ',type(oscar_containers)) # check the type \n",
    "print('Number of movies in the container:',len(oscar_containers)) # number of movies in the container"
   ]
  },
  {
   "cell_type": "code",
   "execution_count": 16,
   "metadata": {},
   "outputs": [
    {
     "name": "stdout",
     "output_type": "stream",
     "text": [
      "What is the data type of movie: <class 'bs4.element.Tag'>\n",
      "details of the movie:  7\n"
     ]
    }
   ],
   "source": [
    "\n",
    "oscar_1 = oscar_containers[0] # get the first movie from the container\n",
    "print('What is the data type of movie:',type(oscar_1)) # observe the tag of the first movie\n",
    "print('details of the movie: ', len(oscar_1))"
   ]
  },
  {
   "cell_type": "code",
   "execution_count": 17,
   "metadata": {},
   "outputs": [
    {
     "data": {
      "text/plain": [
       "<div class=\"lister-item mode-advanced\">\n",
       "<div class=\"lister-top-right\">\n",
       "<div class=\"ribbonize\" data-caller=\"filmosearch\" data-tconst=\"tt1856101\"></div>\n",
       "</div>\n",
       "<div class=\"lister-item-image float-left\">\n",
       "<a href=\"/title/tt1856101/\"> <img alt=\"Blade Runner 2049\" class=\"loadlate\" data-tconst=\"tt1856101\" height=\"98\" loadlate=\"https://m.media-amazon.com/images/M/MV5BNzA1Njg4NzYxOV5BMl5BanBnXkFtZTgwODk5NjU3MzI@._V1_UX67_CR0,0,67,98_AL_.jpg\" src=\"https://m.media-amazon.com/images/S/sash/4FyxwxECzL-U1J8.png\" width=\"67\"/>\n",
       "</a> </div>\n",
       "<div class=\"lister-item-content\">\n",
       "<h3 class=\"lister-item-header\">\n",
       "<span class=\"lister-item-index unbold text-primary\">1.</span>\n",
       "<a href=\"/title/tt1856101/\">Blade Runner 2049</a>\n",
       "<span class=\"lister-item-year text-muted unbold\">(2017)</span>\n",
       "</h3>\n",
       "<p class=\"text-muted\">\n",
       "<span class=\"certificate\">R</span>\n",
       "<span class=\"ghost\">|</span>\n",
       "<span class=\"runtime\">164 min</span>\n",
       "<span class=\"ghost\">|</span>\n",
       "<span class=\"genre\">\n",
       "Action, Drama, Mystery            </span>\n",
       "</p>\n",
       "<div class=\"ratings-bar\">\n",
       "<div class=\"inline-block ratings-imdb-rating\" data-value=\"8\" name=\"ir\">\n",
       "<span class=\"global-sprite rating-star imdb-rating\"></span>\n",
       "<strong>8.0</strong>\n",
       "</div>\n",
       "<div class=\"inline-block ratings-user-rating\">\n",
       "<span class=\"userRatingValue\" data-tconst=\"tt1856101\" id=\"urv_tt1856101\">\n",
       "<span class=\"global-sprite rating-star no-rating\"></span>\n",
       "<span class=\"rate\" data-no-rating=\"Rate this\" data-value=\"0\" name=\"ur\">Rate this</span>\n",
       "</span>\n",
       "<div class=\"starBarWidget\" id=\"sb_tt1856101\">\n",
       "<div class=\"rating rating-list\" data-csrf-token=\"\" data-ga-identifier=\"\" data-starbar-class=\"rating-list\" data-user=\"\" id=\"tt1856101|imdb|8|8|adv_li_tt||advsearch|title\" itemprop=\"aggregateRating\" itemscope=\"\" itemtype=\"http://schema.org/AggregateRating\" title=\"Users rated this 8/10 (608,871 votes) - click stars to rate\">\n",
       "<meta content=\"8\" itemprop=\"ratingValue\"/>\n",
       "<meta content=\"10\" itemprop=\"bestRating\"/>\n",
       "<meta content=\"608871\" itemprop=\"ratingCount\"/>\n",
       "<span class=\"rating-bg\"> </span>\n",
       "<span class=\"rating-imdb\" style=\"width: 112px\"> </span>\n",
       "<span class=\"rating-stars\">\n",
       "<a href=\"/register/login?why=vote\" rel=\"nofollow\" title=\"Register or login to rate this title\"><span>1</span></a>\n",
       "<a href=\"/register/login?why=vote\" rel=\"nofollow\" title=\"Register or login to rate this title\"><span>2</span></a>\n",
       "<a href=\"/register/login?why=vote\" rel=\"nofollow\" title=\"Register or login to rate this title\"><span>3</span></a>\n",
       "<a href=\"/register/login?why=vote\" rel=\"nofollow\" title=\"Register or login to rate this title\"><span>4</span></a>\n",
       "<a href=\"/register/login?why=vote\" rel=\"nofollow\" title=\"Register or login to rate this title\"><span>5</span></a>\n",
       "<a href=\"/register/login?why=vote\" rel=\"nofollow\" title=\"Register or login to rate this title\"><span>6</span></a>\n",
       "<a href=\"/register/login?why=vote\" rel=\"nofollow\" title=\"Register or login to rate this title\"><span>7</span></a>\n",
       "<a href=\"/register/login?why=vote\" rel=\"nofollow\" title=\"Register or login to rate this title\"><span>8</span></a>\n",
       "<a href=\"/register/login?why=vote\" rel=\"nofollow\" title=\"Register or login to rate this title\"><span>9</span></a>\n",
       "<a href=\"/register/login?why=vote\" rel=\"nofollow\" title=\"Register or login to rate this title\"><span>10</span></a>\n",
       "</span>\n",
       "<span class=\"rating-rating\"><span class=\"value\">8</span><span class=\"grey\">/</span><span class=\"grey\">10</span></span>\n",
       "<span class=\"rating-cancel\"><a href=\"/title/tt1856101/vote\" rel=\"nofollow\" title=\"Delete\"><span>X</span></a></span>\n",
       " </div>\n",
       "</div>\n",
       "</div>\n",
       "<div class=\"inline-block ratings-metascore\">\n",
       "<span class=\"metascore favorable\">81        </span>\n",
       "        Metascore\n",
       "            </div>\n",
       "</div>\n",
       "<p class=\"text-muted\">\n",
       "Young Blade Runner K's discovery of a long-buried secret leads him to track down former Blade Runner Rick Deckard, who's been missing for thirty years.</p>\n",
       "<p class=\"\">\n",
       "    Director:\n",
       "<a href=\"/name/nm0898288/\">Denis Villeneuve</a>\n",
       "<span class=\"ghost\">|</span> \n",
       "    Stars:\n",
       "<a href=\"/name/nm0000148/\">Harrison Ford</a>, \n",
       "<a href=\"/name/nm0331516/\">Ryan Gosling</a>, \n",
       "<a href=\"/name/nm1869101/\">Ana de Armas</a>, \n",
       "<a href=\"/name/nm1176985/\">Dave Bautista</a>\n",
       "</p>\n",
       "<p class=\"sort-num_votes-visible\">\n",
       "<span class=\"text-muted\">Votes:</span>\n",
       "<span data-value=\"608871\" name=\"nv\">608,871</span>\n",
       "<span class=\"ghost\">|</span> <span class=\"text-muted\">Gross:</span>\n",
       "<span data-value=\"92,054,159\" name=\"nv\">$92.05M</span>\n",
       "</p>\n",
       "</div>\n",
       "</div>"
      ]
     },
     "execution_count": 17,
     "metadata": {},
     "output_type": "execute_result"
    }
   ],
   "source": [
    "oscar_1"
   ]
  },
  {
   "cell_type": "code",
   "execution_count": 18,
   "metadata": {},
   "outputs": [
    {
     "data": {
      "text/plain": [
       "<div class=\"lister-top-right\">\n",
       "<div class=\"ribbonize\" data-caller=\"filmosearch\" data-tconst=\"tt1856101\"></div>\n",
       "</div>"
      ]
     },
     "execution_count": 18,
     "metadata": {},
     "output_type": "execute_result"
    }
   ],
   "source": [
    "oscar_1.div # div tag or a section or division within HTML"
   ]
  },
  {
   "cell_type": "code",
   "execution_count": 19,
   "metadata": {},
   "outputs": [
    {
     "data": {
      "text/plain": [
       "<a href=\"/title/tt1856101/\"> <img alt=\"Blade Runner 2049\" class=\"loadlate\" data-tconst=\"tt1856101\" height=\"98\" loadlate=\"https://m.media-amazon.com/images/M/MV5BNzA1Njg4NzYxOV5BMl5BanBnXkFtZTgwODk5NjU3MzI@._V1_UX67_CR0,0,67,98_AL_.jpg\" src=\"https://m.media-amazon.com/images/S/sash/4FyxwxECzL-U1J8.png\" width=\"67\"/>\n",
       "</a>"
      ]
     },
     "execution_count": 19,
     "metadata": {},
     "output_type": "execute_result"
    }
   ],
   "source": [
    "oscar_1.a # a or anchor tag defines the href which is hypertext reference or link for the content on the page"
   ]
  },
  {
   "cell_type": "code",
   "execution_count": 20,
   "metadata": {},
   "outputs": [
    {
     "data": {
      "text/plain": [
       "<h3 class=\"lister-item-header\">\n",
       "<span class=\"lister-item-index unbold text-primary\">1.</span>\n",
       "<a href=\"/title/tt1856101/\">Blade Runner 2049</a>\n",
       "<span class=\"lister-item-year text-muted unbold\">(2017)</span>\n",
       "</h3>"
      ]
     },
     "execution_count": 20,
     "metadata": {},
     "output_type": "execute_result"
    }
   ],
   "source": [
    "oscar_1.h3 # access h3 content "
   ]
  },
  {
   "cell_type": "code",
   "execution_count": 21,
   "metadata": {},
   "outputs": [
    {
     "data": {
      "text/plain": [
       "<a href=\"/title/tt1856101/\">Blade Runner 2049</a>"
      ]
     },
     "execution_count": 21,
     "metadata": {},
     "output_type": "execute_result"
    }
   ],
   "source": [
    "oscar_1.h3.a # access he anchor tag and now its getting close to get the movie title"
   ]
  },
  {
   "cell_type": "code",
   "execution_count": 22,
   "metadata": {},
   "outputs": [
    {
     "data": {
      "text/plain": [
       "'Blade Runner 2049'"
      ]
     },
     "execution_count": 22,
     "metadata": {},
     "output_type": "execute_result"
    }
   ],
   "source": [
    "movie_name = oscar_1.h3.a.text # now access just the text part from the tag\n",
    "movie_name"
   ]
  },
  {
   "cell_type": "code",
   "execution_count": 23,
   "metadata": {},
   "outputs": [
    {
     "data": {
      "text/plain": [
       "'(2017)'"
      ]
     },
     "execution_count": 23,
     "metadata": {},
     "output_type": "execute_result"
    }
   ],
   "source": [
    "movie_year = oscar_1.h3.find('span', class_ = 'lister-item-year text-muted unbold').text\n",
    "movie_year"
   ]
  },
  {
   "cell_type": "code",
   "execution_count": 24,
   "metadata": {},
   "outputs": [
    {
     "data": {
      "text/plain": [
       "<strong>8.0</strong>"
      ]
     },
     "execution_count": 24,
     "metadata": {},
     "output_type": "execute_result"
    }
   ],
   "source": [
    "oscar_1.strong # attribute for rating seems to be pretty easy contained witin *strong* tag"
   ]
  },
  {
   "cell_type": "code",
   "execution_count": 25,
   "metadata": {},
   "outputs": [
    {
     "data": {
      "text/plain": [
       "8.0"
      ]
     },
     "execution_count": 25,
     "metadata": {},
     "output_type": "execute_result"
    }
   ],
   "source": [
    "# convert to float as expecting to see some decimal places for rating\n",
    "movie_rating = float(oscar_1.strong.text) \n",
    "movie_rating"
   ]
  },
  {
   "cell_type": "code",
   "execution_count": 29,
   "metadata": {},
   "outputs": [
    {
     "data": {
      "text/plain": [
       "<span class=\"certificate\">R</span>"
      ]
     },
     "execution_count": 29,
     "metadata": {},
     "output_type": "execute_result"
    }
   ],
   "source": [
    "# now to get the rest attributes group in p tag with different class\n",
    "oscar_1.find('span', class_ = 'certificate')"
   ]
  },
  {
   "cell_type": "code",
   "execution_count": 28,
   "metadata": {},
   "outputs": [
    {
     "data": {
      "text/plain": [
       "'R'"
      ]
     },
     "execution_count": 28,
     "metadata": {},
     "output_type": "execute_result"
    }
   ],
   "source": [
    "movie_certificate = oscar_1.find('span', class_ = 'certificate').text\n",
    "movie_certificate"
   ]
  },
  {
   "cell_type": "code",
   "execution_count": 30,
   "metadata": {},
   "outputs": [],
   "source": [
    "def get_certificate(oscar):\n",
    "    # cases where there is no certificate assigned - lets give default as Not Rated\n",
    "    if oscar.find('span', class_ = 'certificate') is not None:\n",
    "        cert = oscar.find('span', class_ = 'certificate').text\n",
    "    else:\n",
    "        cert = 'Not Rated'\n",
    "    return cert"
   ]
  },
  {
   "cell_type": "code",
   "execution_count": 31,
   "metadata": {},
   "outputs": [
    {
     "data": {
      "text/plain": [
       "'R'"
      ]
     },
     "execution_count": 31,
     "metadata": {},
     "output_type": "execute_result"
    }
   ],
   "source": [
    "get_certificate(oscar_1)"
   ]
  },
  {
   "cell_type": "code",
   "execution_count": 32,
   "metadata": {},
   "outputs": [
    {
     "data": {
      "text/plain": [
       "'164 min'"
      ]
     },
     "execution_count": 32,
     "metadata": {},
     "output_type": "execute_result"
    }
   ],
   "source": [
    "movie_runtime = oscar_1.find('span', class_ = 'runtime').text\n",
    "movie_runtime"
   ]
  },
  {
   "cell_type": "code",
   "execution_count": 33,
   "metadata": {},
   "outputs": [
    {
     "data": {
      "text/plain": [
       "'\\nAction, Drama, Mystery            '"
      ]
     },
     "execution_count": 33,
     "metadata": {},
     "output_type": "execute_result"
    }
   ],
   "source": [
    "movie_genre = oscar_1.find('span', class_ = 'genre').text\n",
    "movie_genre"
   ]
  }
 ],
 "metadata": {
  "kernelspec": {
   "display_name": ".venv",
   "language": "python",
   "name": "python3"
  },
  "language_info": {
   "codemirror_mode": {
    "name": "ipython",
    "version": 3
   },
   "file_extension": ".py",
   "mimetype": "text/x-python",
   "name": "python",
   "nbconvert_exporter": "python",
   "pygments_lexer": "ipython3",
   "version": "3.11.3"
  }
 },
 "nbformat": 4,
 "nbformat_minor": 2
}
