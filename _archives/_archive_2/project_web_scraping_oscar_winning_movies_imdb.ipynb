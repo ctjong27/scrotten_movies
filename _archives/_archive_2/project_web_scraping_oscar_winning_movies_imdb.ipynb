{
 "cells": [
  {
   "attachments": {},
   "cell_type": "markdown",
   "metadata": {},
   "source": [
    "Based on the work found at\n",
    "https://jovian.com/munimadhav/project-web-scraping-oscar-winning-movies-imdb-4ffed"
   ]
  },
  {
   "attachments": {},
   "cell_type": "markdown",
   "metadata": {},
   "source": [
    "### Load the libraries needed for the project"
   ]
  },
  {
   "cell_type": "code",
   "execution_count": 1,
   "metadata": {},
   "outputs": [
    {
     "data": {
      "text/plain": [
       "'2.31.0'"
      ]
     },
     "execution_count": 1,
     "metadata": {},
     "output_type": "execute_result"
    }
   ],
   "source": [
    "import requests #packages that is used to download the content from web\n",
    "import urllib # packages that is used to work with URL libraries\n",
    "import requests #package built to make HTTP requests user friendly\n",
    "import os # package used for file process\n",
    "import re # package for regular expression - best to have it dont know if it is required or not\n",
    "from bs4 import BeautifulSoup #a Python library for pulling data out of HTML and XML files\n",
    "import pandas as pd # the omnipresent of all python to work with dataframes\n",
    "requests.__version__ # check the version of the package"
   ]
  },
  {
   "cell_type": "code",
   "execution_count": 2,
   "metadata": {},
   "outputs": [
    {
     "name": "stdout",
     "output_type": "stream",
     "text": [
      "\n",
      "\n",
      "<!DOCTYPE html>\n",
      "<html\n",
      "    xmlns:og=\"http://ogp.me/ns#\"\n",
      "    xmlns:fb=\"http://www.facebook.com/2008/fbml\">\n",
      "    <head>\n",
      "         \n",
      "\n",
      "        <meta charset=\"utf-8\">\n",
      "\n",
      "\n",
      "\n",
      "\n",
      "        <script type=\"text/javascrip\n"
     ]
    }
   ],
   "source": [
    "### Download the page using requests for 2017 Movies\n",
    "#https://www.imdb.com/search/title/?title_type=feature,tv_movie&release_date=1900-01-01,2100-12-31&groups=oscar_winner,oscar_nominee&countries=us&sort=year,asc&count=10000\n",
    "oscar_url = 'https://www.imdb.com/search/title/?release_date=2017&groups=oscar_winner' \n",
    "oscar_resp = requests.get(oscar_url) #get the content of the url from the request package.\n",
    "print(oscar_resp.text[:200]) # look at the snapshot of the content"
   ]
  },
  {
   "attachments": {},
   "cell_type": "markdown",
   "metadata": {},
   "source": [
    "### Parse the html source code using BeautifulSoup4\n",
    "In the webpage, there are the following items worth noting\n",
    "\n",
    "- total number of titles\n",
    "- for each title, total number of votes\n",
    "- gross income"
   ]
  },
  {
   "cell_type": "code",
   "execution_count": 3,
   "metadata": {},
   "outputs": [],
   "source": [
    "oscar_soup = BeautifulSoup(oscar_resp.text, 'html.parser') # with the response text created - parse the html"
   ]
  },
  {
   "cell_type": "code",
   "execution_count": 4,
   "metadata": {},
   "outputs": [
    {
     "name": "stdout",
     "output_type": "stream",
     "text": [
      "Containers is of type:  <class 'bs4.element.ResultSet'>\n",
      "Number of movies in the container: 14\n"
     ]
    }
   ],
   "source": [
    "oscar_containers = oscar_soup.find_all(\"div\",{\"class\" : \"lister-item mode-advanced\"}) # get all the containers \n",
    "print('Containers is of type: ',type(oscar_containers)) # check the type \n",
    "print('Number of movies in the container:',len(oscar_containers)) # number of movies in the container"
   ]
  },
  {
   "attachments": {},
   "cell_type": "markdown",
   "metadata": {},
   "source": [
    "### Extract the information and the data that we are trying to about the movies\n",
    "\n",
    "**Before we build through the whole script - lets work thru the attributes we want and how to get those attributes with one movie from the container**\n",
    "\n",
    "For the project, goal is to extract the following detail for the movies list:\n",
    "- movie_id\n",
    "- name \n",
    "- genre \n",
    "- year\n",
    "- gross\n",
    "- rating\n",
    "- certificate (Public rating eg. R PG13)\n",
    "- duration \n",
    "- rating_count\n",
    "- oscar_wins (no longer app)\n",
    "- oscar_nominations (no longer app)\n",
    "\n",
    "-----\n",
    "\n",
    "For each project, the following member association is desired\n",
    "(found from https://www.imdb.com/title/{movie_id}/fullcredits)\n",
    "- movie_id\n",
    "- member_id\n",
    "- association_type\n",
    "\n",
    "### As I am specifically interested in the gender and racial representation on screen, I am focusing my interests in members in the following categories\n",
    "- Directing\n",
    "- Writing\n",
    "- Casted\n",
    "- Producing\n",
    "- Stars (Found on movies page)\n",
    "- Casting & Casting Department\n",
    "\n",
    "-----\n",
    "\n",
    "For each member, the following information is desired\n",
    "- member_id\n",
    "- name\n",
    "- birth_year\n",
    "- gender\n",
    "- race\n",
    "- first_movie_year\n",
    "- last_movie_year\n",
    "- total_movie_count\n"
   ]
  },
  {
   "attachments": {},
   "cell_type": "markdown",
   "metadata": {},
   "source": [
    "\n",
    "For the project, goal is to extract the following detail for the movies list:\n",
    "- movie_id\n",
    "```\n",
    " - found in <script type=\"application/ld+json\"> - json - url\n",
    "```\n",
    "- url\n",
    "```\n",
    " - found in <script type=\"application/ld+json\"> - json - url\n",
    "```\n",
    "- name \n",
    "```\n",
    " - found in <script type=\"application/ld+json\"> - json - name\n",
    "```\n",
    "- genre \n",
    "```\n",
    " - found in <script type=\"application/ld+json\"> - json - genre\n",
    "```\n",
    "- year\n",
    "```\n",
    " - found in <script type=\"application/ld+json\"> - json - datePublished\n",
    "```\n",
    "- rating_count\n",
    "```\n",
    " - found in <script type=\"application/ld+json\"> - json - aggregateRating - ratingCount\n",
    "```\n",
    "- rating_value\n",
    "```\n",
    " - found in <script type=\"application/ld+json\"> - json - aggregateRating - ratingValue\n",
    "```\n",
    "- gross (May not be needed)\n",
    "- certificate (Public rating eg. R PG13) (May not be needed)\n",
    "- duration (May not be needed)\n",
    "- oscar_wins (May not be needed, but if needed re-filtering from the search view can get the information)\n",
    "- oscar_nominations (May not be needed, but if needed re-filtering from the search view can get the information)"
   ]
  },
  {
   "attachments": {},
   "cell_type": "markdown",
   "metadata": {},
   "source": [
    "-----\n",
    "-----\n",
    "Logic\n",
    "\n",
    "Loop through the list of all oscar winning and nominated movies.\n",
    "\n",
    "For each movie, iterate through the following\n",
    "- Director\n",
    "```\n",
    "<h4 name=\"director\" id=\"director\" class=\"dataHeaderWithBorder\">Directed by</h4>\n",
    "```\n",
    "- Writer\n",
    "```\n",
    "<h4 name=\"writer\" id=\"writer\" class=\"dataHeaderWithBorder\">Writing Credits</h4>\n",
    "```\n",
    "- Cast\n",
    "```\n",
    "In <table class=\"cast_list\">, between <td colspan=\"4\" class=\"castlist_label\"></td> and <td colspan=\"4\" class=\"castlist_label\">Rest of cast listed alphabetically:</td>\n",
    "```\n",
    "- Producing\n",
    "```\n",
    "<h4 name=\"producer\" id=\"producer\" class=\"dataHeaderWithBorder\">\n",
    "```\n",
    "- Casting & Casting Department\n",
    "```\n",
    "<h4 name=\"casting_director\" id=\"casting_director\" class=\"dataHeaderWithBorder\">\n",
    "```\n",
    "```\n",
    "<h4 name=\"casting_department\" id=\"casting_department\" class=\"dataHeaderWithBorder\">…</h4>\n",
    "``` \n"
   ]
  },
  {
   "attachments": {},
   "cell_type": "markdown",
   "metadata": {},
   "source": [
    "\n",
    "For each member, verify whether or not member exists in member datatable. If individual exists, move onto next individual.\n",
    "\n",
    "\n",
    "## SEE IF INFORMATION CAN BE SCRAED FROM JSON AT \n",
    "\n",
    "If individual does not exit, add a new member data entry\n",
    "- member_id\n",
    "```\n",
    " - found in <script type=\"application/ld+json\"> - json - url\n",
    " - found after https://www.imdb.com/name/\n",
    "```\n",
    "- url\n",
    "```\n",
    " - found in <script type=\"application/ld+json\"> - json - url\n",
    "```\n",
    "- name\n",
    "```\n",
    " - found in <script type=\"application/ld+json\"> - json - name\n",
    "```\n",
    "- birth_year\n",
    "```\n",
    " - found in <script type=\"application/ld+json\"> - json - birthDate\n",
    "```\n",
    "- job title (List)\n",
    "```\n",
    " - found in <script type=\"application/ld+json\"> - json - jobTitle\n",
    "```\n",
    "- gender\n",
    "```\n",
    " - based on image found at <script type=\"application/ld+json\"> - json - image, or below\n",
    " <div class=\"ipc-media ipc-media--poster-27x40 ipc-image-media-ratio--poster-27x40 ipc-media--baseAlt ipc-media--poster-s ipc-poster__poster-image ipc-media__img\" style=\"width:100%\">flex\n",
    " ```\n",
    "- race\n",
    "```\n",
    " - based on image found at <script type=\"application/ld+json\"> - json - image, or below\n",
    " <div class=\"ipc-media ipc-media--poster-27x40 ipc-image-media-ratio--poster-27x40 ipc-media--baseAlt ipc-media--poster-s ipc-poster__poster-image ipc-media__img\" style=\"width:100%\">flex\n",
    " ```\n"
   ]
  },
  {
   "attachments": {},
   "cell_type": "markdown",
   "metadata": {},
   "source": [
    "Order of the looping logic\n",
    "\n",
    "---\n",
    "\n",
    "Start with search result of movie list (expansion into tv shows is tentative) (Starting with oscar nominees but may expand to all movies)\n",
    "\n",
    "In the iteration of each movie, store the movie_id data into the 'movies' datatable\n",
    "\n",
    "---\n",
    "\n",
    "For each of the 'movies' iteration, enter the website and retrieve the rest of 'movies' datatable column data\n",
    "\n",
    "---\n",
    "\n",
    "Once 'movies' datatable is populated, run through the /fullcredits/ site in order to retrieve all associated members\n",
    "\n",
    "For each individual listing, populate 'movie_member_associations' table\n",
    "- Additional logic needs to handle duplicate member for same role\n",
    " - Actually, this may be as simple as running a data_table search and skipping if already exists\n",
    "\n",
    "---\n",
    "\n",
    "For each unique member_id in 'movie_member_association', enter the members' website to scrape and store data"
   ]
  },
  {
   "cell_type": "code",
   "execution_count": 5,
   "metadata": {},
   "outputs": [
    {
     "name": "stdout",
     "output_type": "stream",
     "text": [
      "What is the data type of movie: <class 'bs4.element.Tag'>\n",
      "details of the movie:  7\n"
     ]
    }
   ],
   "source": [
    "oscar_1 = oscar_containers[0] # get the first movie from the container\n",
    "print('What is the data type of movie:',type(oscar_1)) # observe the tag of the first movie\n",
    "print('details of the movie: ', len(oscar_1))"
   ]
  },
  {
   "cell_type": "code",
   "execution_count": 6,
   "metadata": {},
   "outputs": [
    {
     "data": {
      "text/plain": [
       "<div class=\"lister-top-right\">\n",
       "<div class=\"ribbonize\" data-caller=\"filmosearch\" data-tconst=\"tt1856101\"></div>\n",
       "</div>"
      ]
     },
     "execution_count": 6,
     "metadata": {},
     "output_type": "execute_result"
    }
   ],
   "source": [
    "oscar_1.div # div tag or a section or division within HTML"
   ]
  },
  {
   "cell_type": "code",
   "execution_count": 7,
   "metadata": {},
   "outputs": [
    {
     "data": {
      "text/plain": [
       "<a href=\"/title/tt1856101/\"> <img alt=\"Blade Runner 2049\" class=\"loadlate\" data-tconst=\"tt1856101\" height=\"98\" loadlate=\"https://m.media-amazon.com/images/M/MV5BNzA1Njg4NzYxOV5BMl5BanBnXkFtZTgwODk5NjU3MzI@._V1_UX67_CR0,0,67,98_AL_.jpg\" src=\"https://m.media-amazon.com/images/S/sash/4FyxwxECzL-U1J8.png\" width=\"67\"/>\n",
       "</a>"
      ]
     },
     "execution_count": 7,
     "metadata": {},
     "output_type": "execute_result"
    }
   ],
   "source": [
    "oscar_1.a # a or anchor tag defines the href which is hypertext reference or link for the content on the page"
   ]
  },
  {
   "cell_type": "code",
   "execution_count": 8,
   "metadata": {},
   "outputs": [
    {
     "data": {
      "text/plain": [
       "<h3 class=\"lister-item-header\">\n",
       "<span class=\"lister-item-index unbold text-primary\">1.</span>\n",
       "<a href=\"/title/tt1856101/\">Blade Runner 2049</a>\n",
       "<span class=\"lister-item-year text-muted unbold\">(2017)</span>\n",
       "</h3>"
      ]
     },
     "execution_count": 8,
     "metadata": {},
     "output_type": "execute_result"
    }
   ],
   "source": [
    "oscar_1.h3 # access h3 content "
   ]
  },
  {
   "cell_type": "code",
   "execution_count": 9,
   "metadata": {},
   "outputs": [
    {
     "data": {
      "text/plain": [
       "<a href=\"/title/tt1856101/\">Blade Runner 2049</a>"
      ]
     },
     "execution_count": 9,
     "metadata": {},
     "output_type": "execute_result"
    }
   ],
   "source": [
    "oscar_1.h3.a # access he anchor tag and now its getting close to get the movie title"
   ]
  },
  {
   "cell_type": "code",
   "execution_count": 10,
   "metadata": {},
   "outputs": [
    {
     "data": {
      "text/plain": [
       "'Blade Runner 2049'"
      ]
     },
     "execution_count": 10,
     "metadata": {},
     "output_type": "execute_result"
    }
   ],
   "source": [
    "movie_name = oscar_1.h3.a.text # now access just the text part from the tag\n",
    "movie_name"
   ]
  },
  {
   "attachments": {},
   "cell_type": "markdown",
   "metadata": {},
   "source": [
    "**movie year** \\\n",
    "One step done, now to get the Year which happened to be in the 'span' tag.\n",
    "Using the *find* method we can get first occurence by matching the class *lister-item-year text-muted unbold* from the picture:\n",
    "\n",
    "![movie_year](https://i.imgur.com/IHJq5DH.png)"
   ]
  },
  {
   "cell_type": "code",
   "execution_count": 11,
   "metadata": {},
   "outputs": [
    {
     "data": {
      "text/plain": [
       "'(2017)'"
      ]
     },
     "execution_count": 11,
     "metadata": {},
     "output_type": "execute_result"
    }
   ],
   "source": [
    "movie_year = oscar_1.h3.find('span', class_ = 'lister-item-year text-muted unbold').text\n",
    "movie_year"
   ]
  },
  {
   "attachments": {},
   "cell_type": "markdown",
   "metadata": {},
   "source": [
    "**movie rating**\n",
    "\n",
    "![movie_rating](https://i.imgur.com/bsfEzYP.png)"
   ]
  },
  {
   "cell_type": "code",
   "execution_count": 12,
   "metadata": {},
   "outputs": [
    {
     "data": {
      "text/plain": [
       "<strong>8.0</strong>"
      ]
     },
     "execution_count": 12,
     "metadata": {},
     "output_type": "execute_result"
    }
   ],
   "source": [
    "oscar_1.strong # attribute for rating seems to be pretty easy contained witin *strong* tag"
   ]
  },
  {
   "cell_type": "code",
   "execution_count": 13,
   "metadata": {},
   "outputs": [
    {
     "data": {
      "text/plain": [
       "8.0"
      ]
     },
     "execution_count": 13,
     "metadata": {},
     "output_type": "execute_result"
    }
   ],
   "source": [
    "# convert to float as expecting to see some decimal places for rating\n",
    "movie_rating = float(oscar_1.strong.text) \n",
    "movie_rating"
   ]
  },
  {
   "attachments": {},
   "cell_type": "markdown",
   "metadata": {},
   "source": [
    "**movie certification**\n",
    "\n",
    "![movie_details](https://i.imgur.com/XAacbCX.png)"
   ]
  },
  {
   "cell_type": "code",
   "execution_count": 14,
   "metadata": {},
   "outputs": [
    {
     "data": {
      "text/plain": [
       "<span class=\"certificate\">R</span>"
      ]
     },
     "execution_count": 14,
     "metadata": {},
     "output_type": "execute_result"
    }
   ],
   "source": [
    "# now to get the rest attributes group in p tag with different class\n",
    "oscar_1.find('span', class_ = 'certificate')"
   ]
  },
  {
   "cell_type": "code",
   "execution_count": 15,
   "metadata": {},
   "outputs": [
    {
     "data": {
      "text/plain": [
       "'R'"
      ]
     },
     "execution_count": 15,
     "metadata": {},
     "output_type": "execute_result"
    }
   ],
   "source": [
    "movie_certificate = oscar_1.find('span', class_ = 'certificate').text\n",
    "movie_certificate"
   ]
  },
  {
   "attachments": {},
   "cell_type": "markdown",
   "metadata": {},
   "source": [
    "`Not all movies are rated so lets do a helper function to put a 'Not Rated' where not available`"
   ]
  },
  {
   "cell_type": "code",
   "execution_count": 16,
   "metadata": {},
   "outputs": [],
   "source": [
    "def get_certificate(oscar):\n",
    "    # cases where there is no certificate assigned - lets give default as Not Rated\n",
    "    if oscar.find('span', class_ = 'certificate') is not None:\n",
    "        cert = oscar.find('span', class_ = 'certificate').text\n",
    "    else:\n",
    "        cert = 'Not Rated'\n",
    "    return cert"
   ]
  },
  {
   "cell_type": "code",
   "execution_count": 17,
   "metadata": {},
   "outputs": [
    {
     "data": {
      "text/plain": [
       "'R'"
      ]
     },
     "execution_count": 17,
     "metadata": {},
     "output_type": "execute_result"
    }
   ],
   "source": [
    "get_certificate(oscar_1)"
   ]
  },
  {
   "attachments": {},
   "cell_type": "markdown",
   "metadata": {},
   "source": [
    "**movie runtime**"
   ]
  },
  {
   "cell_type": "code",
   "execution_count": 18,
   "metadata": {},
   "outputs": [
    {
     "data": {
      "text/plain": [
       "'164 min'"
      ]
     },
     "execution_count": 18,
     "metadata": {},
     "output_type": "execute_result"
    }
   ],
   "source": [
    "movie_runtime = oscar_1.find('span', class_ = 'runtime').text\n",
    "movie_runtime"
   ]
  },
  {
   "attachments": {},
   "cell_type": "markdown",
   "metadata": {},
   "source": [
    "**movie genre**"
   ]
  },
  {
   "cell_type": "code",
   "execution_count": 19,
   "metadata": {},
   "outputs": [
    {
     "data": {
      "text/plain": [
       "'\\nAction, Drama, Mystery            '"
      ]
     },
     "execution_count": 19,
     "metadata": {},
     "output_type": "execute_result"
    }
   ],
   "source": [
    "movie_genre = oscar_1.find('span', class_ = 'genre').text\n",
    "movie_genre"
   ]
  },
  {
   "cell_type": "code",
   "execution_count": 20,
   "metadata": {},
   "outputs": [
    {
     "data": {
      "text/plain": [
       "'Action, Drama, Mystery'"
      ]
     },
     "execution_count": 20,
     "metadata": {},
     "output_type": "execute_result"
    }
   ],
   "source": [
    "movie_genre = movie_genre.strip()\n",
    "movie_genre"
   ]
  },
  {
   "attachments": {},
   "cell_type": "markdown",
   "metadata": {},
   "source": [
    "**movie vote count and gross earned**\n",
    "\n",
    "To get the vote count and also the gross amount of the movie\n",
    "\n",
    "![movie_gross_vote](https://i.imgur.com/COYD2of.png)"
   ]
  },
  {
   "cell_type": "code",
   "execution_count": 21,
   "metadata": {},
   "outputs": [
    {
     "name": "stdout",
     "output_type": "stream",
     "text": [
      "608603\n"
     ]
    }
   ],
   "source": [
    "v_g_dtl = oscar_1.findAll('span', attrs = {'name' : 'nv'})\n",
    "movie_votes = v_g_dtl[0]['data-value']\n",
    "print(movie_votes)"
   ]
  },
  {
   "cell_type": "code",
   "execution_count": 22,
   "metadata": {},
   "outputs": [
    {
     "name": "stdout",
     "output_type": "stream",
     "text": [
      "$92.05M\n"
     ]
    }
   ],
   "source": [
    "movie_gross = v_g_dtl[1].text\n",
    "print(movie_gross)"
   ]
  },
  {
   "cell_type": "code",
   "execution_count": 23,
   "metadata": {},
   "outputs": [
    {
     "data": {
      "text/plain": [
       "'608603'"
      ]
     },
     "execution_count": 23,
     "metadata": {},
     "output_type": "execute_result"
    }
   ],
   "source": [
    "#get vote count \n",
    "oscar_1.findAll('span', attrs = {'name' : 'nv'})[0]['data-value']"
   ]
  },
  {
   "cell_type": "code",
   "execution_count": 24,
   "metadata": {},
   "outputs": [
    {
     "data": {
      "text/plain": [
       "'$92.05M'"
      ]
     },
     "execution_count": 24,
     "metadata": {},
     "output_type": "execute_result"
    }
   ],
   "source": [
    "# get gross \n",
    "oscar_1.findAll('span', attrs = {'name' : 'nv'})[1].text"
   ]
  },
  {
   "attachments": {},
   "cell_type": "markdown",
   "metadata": {},
   "source": [
    "`Not all movies have gross earned so lets add a helper function to get count and gross with default`"
   ]
  },
  {
   "cell_type": "code",
   "execution_count": 25,
   "metadata": {},
   "outputs": [],
   "source": [
    "def get_votes_and_gross(oscar):\n",
    "    oscar = oscar.find_all('span',{\"name\":\"nv\"})\n",
    "    votes_and_gross_list = []\n",
    "    for data_value in oscar:\n",
    "        votes_and_gross_list.append(data_value.text)\n",
    "    if(len(oscar)==2):\n",
    "        votes=votes_and_gross_list[0]\n",
    "        gross = votes_and_gross_list[1]\n",
    "    else:\n",
    "        votes=votes_and_gross_list[0]\n",
    "        gross = None\n",
    "    \n",
    "    return votes,gross"
   ]
  },
  {
   "cell_type": "code",
   "execution_count": 26,
   "metadata": {},
   "outputs": [
    {
     "data": {
      "text/plain": [
       "('608,603', '$92.05M')"
      ]
     },
     "execution_count": 26,
     "metadata": {},
     "output_type": "execute_result"
    }
   ],
   "source": [
    "get_votes_and_gross(oscar_1)"
   ]
  },
  {
   "attachments": {},
   "cell_type": "markdown",
   "metadata": {},
   "source": [
    "**metascore**\n",
    "\n",
    "![metascore](https://i.imgur.com/OKGdSKp.png)\n"
   ]
  },
  {
   "cell_type": "code",
   "execution_count": 27,
   "metadata": {},
   "outputs": [
    {
     "data": {
      "text/plain": [
       "'81'"
      ]
     },
     "execution_count": 27,
     "metadata": {},
     "output_type": "execute_result"
    }
   ],
   "source": [
    "movie_mscore = oscar_1.find('span', class_ = 'metascore').text\n",
    "movie_mscore.strip()"
   ]
  },
  {
   "cell_type": "code",
   "execution_count": 28,
   "metadata": {},
   "outputs": [],
   "source": [
    "def meta_score(oscar):\n",
    "    # for most of the movies metascore is not available and for those default to 0\n",
    "    if oscar.find('span', class_ = 'metascore favorable') is not None:\n",
    "        meta = oscar.find('span', class_ = 'metascore favorable').text\n",
    "    else:\n",
    "        meta = '0'\n",
    "    return int(meta)"
   ]
  },
  {
   "cell_type": "code",
   "execution_count": 29,
   "metadata": {},
   "outputs": [
    {
     "data": {
      "text/plain": [
       "81"
      ]
     },
     "execution_count": 29,
     "metadata": {},
     "output_type": "execute_result"
    }
   ],
   "source": [
    "meta_score(oscar_1)"
   ]
  },
  {
   "attachments": {},
   "cell_type": "markdown",
   "metadata": {},
   "source": [
    "### Extract and combine data from multiple pages from the portal\n",
    "\n",
    "**Now that all of the code block is almost there, need to figure out on how to roll through pages to get all the Oscar movies for the sample number of years** \\\n",
    "*Sample of years chosen is 2000-2021 as the dataset is going to be huge and not to irk IMDM* \\\n",
    "Here are the urls: \\\n",
    "start: https://www.imdb.com/search/title/?release_date=2000-01-01,2021-12-31&groups=oscar_winner&sort=year,asc&count=100  \n",
    "second: https://www.imdb.com/search/title/?release_date=2000-01-01,2021-12-31&groups=oscar_winner&sort=year,asc&count=100&start=101&ref_=adv_nxt  \n",
    "last: https://www.imdb.com/search/title/?release_date=2000-01-01,2021-12-31&groups=oscar_winner&sort=year,asc&count=100&start=201&ref_=adv_nxt\n",
    "  "
   ]
  },
  {
   "cell_type": "code",
   "execution_count": 30,
   "metadata": {},
   "outputs": [],
   "source": [
    "# assign the start page as the start_url and see if the function returns the pages\n",
    "url = 'https://www.imdb.com/search/title/?release_date=2000-01-01,2021-12-31&groups=oscar_winner&sort=year,asc&count=100'"
   ]
  },
  {
   "cell_type": "code",
   "execution_count": 31,
   "metadata": {},
   "outputs": [],
   "source": [
    "# lets do a helper function to get all the pages for 3 pages\n",
    "def all_oscar_page(start_url):\n",
    "    all_urls = [] #list to get all urls\n",
    "    url = start_url # begin page\n",
    "    while(url != None):  #Loop around all the required webpages and terminates when last page arive!\n",
    "        all_urls.append(url) # add to the list\n",
    "        soup = BeautifulSoup(requests.get(url).text,\"html.parser\") # parser\n",
    "        \n",
    "        # this step is where we get next link - in the screenshot below look at the html inspection on 'Next button'\n",
    "        # use the class function what makes the page to next\n",
    "        next_links = soup.find_all(class_='lister-page-next next-page') #Extracts the next page link.\n",
    "        if (len(next_links) == 0):         # If their is no next page, it returns 0.\n",
    "            url = None\n",
    "        else:\n",
    "            next_page = \"https://www.imdb.com\" + next_links[0].get('href')\n",
    "            url = next_page\n",
    "            print(url)\n",
    "    return all_urls"
   ]
  },
  {
   "attachments": {},
   "cell_type": "markdown",
   "metadata": {},
   "source": [
    "**Inspect HTML for next button**\n",
    "\n",
    "![roll_thru_pages](https://i.imgur.com/spaXL4P.png)"
   ]
  },
  {
   "cell_type": "code",
   "execution_count": 32,
   "metadata": {},
   "outputs": [
    {
     "name": "stdout",
     "output_type": "stream",
     "text": [
      "https://www.imdb.com/search/title/?release_date=2000-01-01,2021-12-31&groups=oscar_winner&sort=year,asc&count=100&start=101\n"
     ]
    },
    {
     "name": "stdout",
     "output_type": "stream",
     "text": [
      "https://www.imdb.com/search/title/?release_date=2000-01-01,2021-12-31&groups=oscar_winner&sort=year,asc&count=100&start=201\n",
      "https://www.imdb.com/search/title/?release_date=2000-01-01,2021-12-31&groups=oscar_winner&sort=year,asc&count=100&start=301\n"
     ]
    },
    {
     "data": {
      "text/plain": [
       "['https://www.imdb.com/search/title/?release_date=2000-01-01,2021-12-31&groups=oscar_winner&sort=year,asc&count=100',\n",
       " 'https://www.imdb.com/search/title/?release_date=2000-01-01,2021-12-31&groups=oscar_winner&sort=year,asc&count=100&start=101',\n",
       " 'https://www.imdb.com/search/title/?release_date=2000-01-01,2021-12-31&groups=oscar_winner&sort=year,asc&count=100&start=201',\n",
       " 'https://www.imdb.com/search/title/?release_date=2000-01-01,2021-12-31&groups=oscar_winner&sort=year,asc&count=100&start=301']"
      ]
     },
     "execution_count": 32,
     "metadata": {},
     "output_type": "execute_result"
    }
   ],
   "source": [
    "all_oscar_page(url) # looks like the function is returning correct links!"
   ]
  },
  {
   "attachments": {},
   "cell_type": "markdown",
   "metadata": {},
   "source": [
    "## Now that we have all the code together, lets glam up a little and tidy it up\n",
    "###### Compile extracted information into python data objects"
   ]
  },
  {
   "attachments": {},
   "cell_type": "markdown",
   "metadata": {},
   "source": [
    "**lets get the libraries**"
   ]
  },
  {
   "cell_type": "code",
   "execution_count": 33,
   "metadata": {},
   "outputs": [
    {
     "data": {
      "text/plain": [
       "'2.31.0'"
      ]
     },
     "execution_count": 33,
     "metadata": {},
     "output_type": "execute_result"
    }
   ],
   "source": [
    "import requests #packages that is used to download the content from web\n",
    "import urllib # packages that is used to work with URL libraries\n",
    "import requests #package built to make HTTP requests user friendly\n",
    "import os # package used for file process\n",
    "import re # package for regular expression - best to have it dont know if it is required or not\n",
    "from bs4 import BeautifulSoup #a Python library for pulling data out of HTML and XML files\n",
    "import pandas as pd # the omnipresent of all python to work with dataframes\n",
    "requests.__version__ # check the version of the package"
   ]
  },
  {
   "attachments": {},
   "cell_type": "markdown",
   "metadata": {},
   "source": [
    "### Finally, write and save the info into CSV files\n",
    "\n",
    "**Final helper function to get the movie detail data file by year for user given start and end year**"
   ]
  },
  {
   "cell_type": "code",
   "execution_count": 34,
   "metadata": {},
   "outputs": [],
   "source": [
    "def get_oscar_movies(start_year, end_year):    \n",
    "    start_year = str(start_year) # get the begin year\n",
    "    end_year = str(end_year) # get the end year\n",
    "    url = get_oscar_url(start_year, end_year) # helper function to build url for start and end year\n",
    "    oscar_movies = get_oscar_movie_detail(url) # get all the movie detail from helper function\n",
    "    # give the columns new titles\n",
    "    oscar_col_list = ['Title','Year','IMDB Rating','Rated','Duration','Genre','Metascore','Votes','Gross USD']\n",
    "    oscar_df = pd.DataFrame(oscar_movies, columns = oscar_col_list)\n",
    "    \n",
    "    # write all the oscar winning movies for the period into one file\n",
    "    csv_name = 'oscar_movies_'+start_year+'-'+end_year+'.csv'\n",
    "    print('Oscar movies are also saved in {} file'.format(csv_name))\n",
    "    \n",
    "    #create a directory to post the files by year\n",
    "    os.makedirs('movies_data', exist_ok=True)\n",
    "    # make the data frame group by year as a dictionary\n",
    "    oscar_movies_year = {j: oscar_df[oscar_df['Year'] == j] for j in oscar_df['Year'].unique()} \n",
    "    #loop thru key, value in dictionary to write the files\n",
    "    for k, v in oscar_movies_year.items():\n",
    "        v.to_csv('movies_data\\oscar_movies_'+'{}.csv'.format(k), index=None)\n",
    "    return oscar_df"
   ]
  },
  {
   "attachments": {},
   "cell_type": "markdown",
   "metadata": {},
   "source": [
    "**A clean looking URL getter than putting together into one big link**"
   ]
  },
  {
   "cell_type": "code",
   "execution_count": 35,
   "metadata": {},
   "outputs": [],
   "source": [
    "def get_oscar_url(start_year, end_year):    \n",
    "    base_url = 'https://www.imdb.com/search/title/?'\n",
    "    release_date = 'release_date='\n",
    "    sep = ','\n",
    "    tail_url = '&groups=oscar_winner&sort=year,asc&count=100'\n",
    "    oscar_url = base_url + release_date + start_year + sep + end_year + tail_url\n",
    "    return oscar_url"
   ]
  },
  {
   "attachments": {},
   "cell_type": "markdown",
   "metadata": {},
   "source": [
    "**lets do a helper function to get all the pages between start and end year**\n"
   ]
  },
  {
   "cell_type": "code",
   "execution_count": 36,
   "metadata": {},
   "outputs": [],
   "source": [
    "def all_oscar_page(start_url):\n",
    "    all_urls = [] #list to get all urls\n",
    "    url = start_url # begin page\n",
    "    while(url != None):  #Loop around all the required webpages and terminates when last page arive!\n",
    "        all_urls.append(url) # add to the list\n",
    "        soup = BeautifulSoup(requests.get(url).text,\"html.parser\") # parser\n",
    "        \n",
    "        # this step is where we get next link - in the screenshot below look at the html inspection on 'Next button'\n",
    "        # use the class function what makes the page to next\n",
    "        next_links = soup.find_all(class_='lister-page-next next-page') #Extracts the next page link.\n",
    "        if (len(next_links) == 0):         # If their is no next page, it returns 0.\n",
    "            url = None\n",
    "        else:\n",
    "            next_page = \"https://www.imdb.com\" + next_links[0].get('href')\n",
    "            url = next_page\n",
    "            #print(url)\n",
    "    return all_urls"
   ]
  },
  {
   "attachments": {},
   "cell_type": "markdown",
   "metadata": {},
   "source": [
    "**this is where we go thru each page and also the number of movies in that page**"
   ]
  },
  {
   "cell_type": "code",
   "execution_count": 37,
   "metadata": {},
   "outputs": [],
   "source": [
    "def get_oscar_movie_detail(url):\n",
    "    oscar_movies = [] # list of movies of data \n",
    "    #url = 'https://www.imdb.com/search/title/?release_date=2000-01-01,2021-12-31&groups=oscar_winner&sort=year,asc&count=100'\n",
    "\n",
    "    for link in all_oscar_page(url):     #Runs the function for all the pages.\n",
    "        oscar_soup = BeautifulSoup(requests.get(url).text, 'html.parser') #Extracts out the main html code.\n",
    "        oscar_containers = oscar_soup.find_all(\"div\",{\"class\" : \"lister-item mode-advanced\"}) # get all the containers \n",
    "        #print(len(oscar_containers))\n",
    "\n",
    "        #loop through all the movies in the container to get the attributes\n",
    "        for oscar in oscar_containers: \n",
    "            oscar_movies.append(get_movie_info(oscar))\n",
    "        return oscar_movies"
   ]
  },
  {
   "attachments": {},
   "cell_type": "markdown",
   "metadata": {},
   "source": [
    "**getting the movie info**"
   ]
  },
  {
   "cell_type": "code",
   "execution_count": 38,
   "metadata": {},
   "outputs": [],
   "source": [
    "def get_movie_info(oscar):\n",
    "    name = oscar.h3.a.text\n",
    "    year = oscar.h3.find('span', class_ = 'lister-item-year text-muted unbold')\n",
    "    movie_year = pd.to_numeric(year.text.replace('(','').replace(')','').replace('I',''))\n",
    "    rating = float(oscar.strong.text)\n",
    "    certificate = get_certificate(oscar) \n",
    "    duration = oscar.find('span', class_ = 'runtime').text\n",
    "    genre = oscar.find('span', class_ = 'genre').text.strip()\n",
    "    metascore = meta_score(oscar)\n",
    "    votes, gross = votes_and_gross(oscar)\n",
    "    movie_info = [name, movie_year, rating, certificate, duration, genre, metascore, votes, gross]\n",
    "    return movie_info"
   ]
  },
  {
   "attachments": {},
   "cell_type": "markdown",
   "metadata": {},
   "source": [
    "**helper functions to get certificate, metascore, votes, gross**"
   ]
  },
  {
   "cell_type": "code",
   "execution_count": 39,
   "metadata": {},
   "outputs": [],
   "source": [
    "def get_certificate(oscar):\n",
    "    # cases where there is no certificate assigned - lets give default as Not Rated\n",
    "    if oscar.find('span', class_ = 'certificate') is not None:\n",
    "        cert = oscar.find('span', class_ = 'certificate').text\n",
    "    else:\n",
    "        cert = 'Not Rated'\n",
    "    return cert"
   ]
  },
  {
   "cell_type": "code",
   "execution_count": 40,
   "metadata": {},
   "outputs": [],
   "source": [
    "def meta_score(oscar):\n",
    "    # for most of the movies metascore is not available and for those default to 0\n",
    "    if oscar.find('span', class_ = 'metascore favorable') is not None:\n",
    "        meta = oscar.find('span', class_ = 'metascore favorable').text\n",
    "    else:\n",
    "        meta = '0'\n",
    "    return int(meta)"
   ]
  },
  {
   "cell_type": "code",
   "execution_count": 41,
   "metadata": {},
   "outputs": [],
   "source": [
    "def votes_and_gross(oscar):\n",
    "    oscar = oscar.find_all('span',{\"name\":\"nv\"})\n",
    "    votes_and_gross_list = []\n",
    "    for data_value in oscar:\n",
    "        votes_and_gross_list.append(data_value.text)\n",
    "    if(len(oscar)==2):\n",
    "        votes=votes_and_gross_list[0]\n",
    "        gross = votes_and_gross_list[1]\n",
    "    else:\n",
    "        votes=votes_and_gross_list[0]\n",
    "        gross = None   \n",
    "    return votes,gross"
   ]
  },
  {
   "attachments": {},
   "cell_type": "markdown",
   "metadata": {},
   "source": [
    "**Test the final functions**"
   ]
  },
  {
   "cell_type": "code",
   "execution_count": 42,
   "metadata": {
    "scrolled": false
   },
   "outputs": [
    {
     "name": "stdout",
     "output_type": "stream",
     "text": [
      "Oscar movies are also saved in oscar_movies_2010-2020.csv file\n"
     ]
    }
   ],
   "source": [
    "oscar_df = get_oscar_movies(2010,2020)"
   ]
  },
  {
   "cell_type": "code",
   "execution_count": 43,
   "metadata": {},
   "outputs": [
    {
     "data": {
      "text/html": [
       "<div>\n",
       "<style scoped>\n",
       "    .dataframe tbody tr th:only-of-type {\n",
       "        vertical-align: middle;\n",
       "    }\n",
       "\n",
       "    .dataframe tbody tr th {\n",
       "        vertical-align: top;\n",
       "    }\n",
       "\n",
       "    .dataframe thead th {\n",
       "        text-align: right;\n",
       "    }\n",
       "</style>\n",
       "<table border=\"1\" class=\"dataframe\">\n",
       "  <thead>\n",
       "    <tr style=\"text-align: right;\">\n",
       "      <th></th>\n",
       "      <th>Title</th>\n",
       "      <th>Year</th>\n",
       "      <th>IMDB Rating</th>\n",
       "      <th>Rated</th>\n",
       "      <th>Duration</th>\n",
       "      <th>Genre</th>\n",
       "      <th>Metascore</th>\n",
       "      <th>Votes</th>\n",
       "      <th>Gross USD</th>\n",
       "    </tr>\n",
       "  </thead>\n",
       "  <tbody>\n",
       "    <tr>\n",
       "      <th>0</th>\n",
       "      <td>Inception</td>\n",
       "      <td>2010</td>\n",
       "      <td>8.8</td>\n",
       "      <td>PG-13</td>\n",
       "      <td>148 min</td>\n",
       "      <td>Action, Adventure, Sci-Fi</td>\n",
       "      <td>74</td>\n",
       "      <td>2,424,833</td>\n",
       "      <td>$292.58M</td>\n",
       "    </tr>\n",
       "    <tr>\n",
       "      <th>1</th>\n",
       "      <td>Black Swan</td>\n",
       "      <td>2010</td>\n",
       "      <td>8.0</td>\n",
       "      <td>R</td>\n",
       "      <td>108 min</td>\n",
       "      <td>Drama, Thriller</td>\n",
       "      <td>79</td>\n",
       "      <td>791,573</td>\n",
       "      <td>$106.95M</td>\n",
       "    </tr>\n",
       "    <tr>\n",
       "      <th>2</th>\n",
       "      <td>The Social Network</td>\n",
       "      <td>2010</td>\n",
       "      <td>7.8</td>\n",
       "      <td>PG-13</td>\n",
       "      <td>120 min</td>\n",
       "      <td>Biography, Drama</td>\n",
       "      <td>95</td>\n",
       "      <td>726,057</td>\n",
       "      <td>$96.96M</td>\n",
       "    </tr>\n",
       "    <tr>\n",
       "      <th>3</th>\n",
       "      <td>Alice in Wonderland</td>\n",
       "      <td>2010</td>\n",
       "      <td>6.4</td>\n",
       "      <td>PG</td>\n",
       "      <td>108 min</td>\n",
       "      <td>Adventure, Family, Fantasy</td>\n",
       "      <td>0</td>\n",
       "      <td>426,757</td>\n",
       "      <td>$334.19M</td>\n",
       "    </tr>\n",
       "    <tr>\n",
       "      <th>4</th>\n",
       "      <td>Toy Story 3</td>\n",
       "      <td>2010</td>\n",
       "      <td>8.3</td>\n",
       "      <td>G</td>\n",
       "      <td>103 min</td>\n",
       "      <td>Animation, Adventure, Comedy</td>\n",
       "      <td>92</td>\n",
       "      <td>858,902</td>\n",
       "      <td>$415.00M</td>\n",
       "    </tr>\n",
       "  </tbody>\n",
       "</table>\n",
       "</div>"
      ],
      "text/plain": [
       "                 Title  Year  IMDB Rating  Rated Duration  \\\n",
       "0            Inception  2010          8.8  PG-13  148 min   \n",
       "1           Black Swan  2010          8.0      R  108 min   \n",
       "2   The Social Network  2010          7.8  PG-13  120 min   \n",
       "3  Alice in Wonderland  2010          6.4     PG  108 min   \n",
       "4          Toy Story 3  2010          8.3      G  103 min   \n",
       "\n",
       "                          Genre  Metascore      Votes Gross USD  \n",
       "0     Action, Adventure, Sci-Fi         74  2,424,833  $292.58M  \n",
       "1               Drama, Thriller         79    791,573  $106.95M  \n",
       "2              Biography, Drama         95    726,057   $96.96M  \n",
       "3    Adventure, Family, Fantasy          0    426,757  $334.19M  \n",
       "4  Animation, Adventure, Comedy         92    858,902  $415.00M  "
      ]
     },
     "execution_count": 43,
     "metadata": {},
     "output_type": "execute_result"
    }
   ],
   "source": [
    "oscar_df[:5]"
   ]
  },
  {
   "attachments": {},
   "cell_type": "markdown",
   "metadata": {},
   "source": [
    "As a good neighbor, giving the credit where it is due, I have gained my learning from the following links, my appreciation to all of the folks on the world to provide a great content for others to learn.\n",
    "\n",
    "Useful Links:\\\n",
    "https://www.dataquest.io/blog/web-scraping-python-using-beautiful-soup/ \\\n",
    "https://www.dataquest.io/blog/web-scraping-beautifulsoup/"
   ]
  },
  {
   "attachments": {},
   "cell_type": "markdown",
   "metadata": {},
   "source": [
    "**Finally, commit to Jovian with files**"
   ]
  },
  {
   "attachments": {},
   "cell_type": "markdown",
   "metadata": {},
   "source": [
    "# Summary\n",
    "- Now that there is a process that I can summarize the data into the files from IMDB, am looking forward to explore these datasets in future data analysis exploration (EDA - exploratory data analysis) to make some interesting observations and hopefully some cool plots. More to follow.\n",
    "- This is my first ever web scraping project. I hope my notes, notebook and explanations gives a great confidence to beginners like me on how one can make a good web scraping project with the tools on hand and a bit of effort with python learning. \n",
    "- For Starters, this notebook can be a great help to fork, download or run it directly on the jovian page. There is a ton of help out there for every level of coder, (I for one am grateful for all the help from my community, Jovian team and wealth of resources on the web) hopefully this notebook helps!! \n",
    "- Let's go!"
   ]
  }
 ],
 "metadata": {
  "kernelspec": {
   "display_name": ".venv",
   "language": "python",
   "name": "python3"
  },
  "language_info": {
   "codemirror_mode": {
    "name": "ipython",
    "version": 3
   },
   "file_extension": ".py",
   "mimetype": "text/x-python",
   "name": "python",
   "nbconvert_exporter": "python",
   "pygments_lexer": "ipython3",
   "version": "3.11.3"
  }
 },
 "nbformat": 4,
 "nbformat_minor": 2
}
