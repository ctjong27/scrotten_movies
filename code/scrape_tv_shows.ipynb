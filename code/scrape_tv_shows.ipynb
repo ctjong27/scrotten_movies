{
 "cells": [
  {
   "cell_type": "code",
   "execution_count": 2,
   "metadata": {},
   "outputs": [],
   "source": [
    "import requests\n",
    "import csv\n",
    "import os\n",
    "\n",
    "# Variables\n",
    "api_key = 'a'\n",
    "num_top_shows = 25  # Desired number of top shows here\n",
    "\n",
    "# Create data directory if it does not exist\n",
    "os.makedirs('./data', exist_ok=True)\n",
    "\n",
    "# Prepare data for CSV\n",
    "csv_data = []\n",
    "\n",
    "for year in range(1970, 2021):\n",
    "    page = 1\n",
    "    shows_filtered = []\n",
    "    \n",
    "    while len(shows_filtered) < num_top_shows:\n",
    "        # url = f\"https://api.themoviedb.org/3/discover/tv?api_key={api_key}&language=en-US&sort_by=popularity.desc&first_air_date_year={year}&region=US&page={page}\"\n",
    "        url = f\"https://api.themoviedb.org/3/discover/tv?api_key={api_key}&language=en-US&sort_by=popularity.desc&first_air_date_year={year}&page={page}\"\n",
    "\n",
    "        response = requests.get(url)\n",
    "\n",
    "        if response.status_code == 200:\n",
    "            data = response.json()\n",
    "            shows = data['results']\n",
    "            \n",
    "            # Filter shows based on original_language and origin_country\n",
    "            # shows_filtered += [show for show in shows if show['original_language'] == 'en' and 'US' in show['origin_country']]\n",
    "            shows_filtered += [show for show in shows if show['original_language'] == 'en']\n",
    "\n",
    "            page += 1\n",
    "        else:\n",
    "            print(\"Error:\", response.status_code)\n",
    "            break\n",
    "\n",
    "    for i, show in enumerate(shows_filtered[:num_top_shows], start=1):\n",
    "        csv_data.append([year, i, show['name'], \", \".join([str(id) for id in show['genre_ids']]), show['first_air_date'], \", \".join(show['origin_country']), show['vote_average'], show['popularity']])\n",
    "\n",
    "# Write to CSV\n",
    "with open(f'./data/tv_shows_top_{num_top_shows}_yearly.csv', 'w', newline='', encoding='utf-8') as f:\n",
    "    writer = csv.writer(f)\n",
    "    writer.writerow([\"Year\", \"Rank\", \"Show Name\", \"Genre IDs\", \"First Air Date\", \"Origin Country\", \"Rating\", \"Popularity\"])  # Write header\n",
    "    writer.writerows(csv_data)  # Write data\n"
   ]
  }
 ],
 "metadata": {
  "kernelspec": {
   "display_name": ".venv",
   "language": "python",
   "name": "python3"
  },
  "language_info": {
   "codemirror_mode": {
    "name": "ipython",
    "version": 3
   },
   "file_extension": ".py",
   "mimetype": "text/x-python",
   "name": "python",
   "nbconvert_exporter": "python",
   "pygments_lexer": "ipython3",
   "version": "3.11.3"
  },
  "orig_nbformat": 4
 },
 "nbformat": 4,
 "nbformat_minor": 2
}
