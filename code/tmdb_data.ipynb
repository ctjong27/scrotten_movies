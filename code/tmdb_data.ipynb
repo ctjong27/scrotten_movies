{
 "cells": [
  {
   "cell_type": "code",
   "execution_count": 4,
   "metadata": {},
   "outputs": [
    {
     "name": "stderr",
     "output_type": "stream",
     "text": [
      "  0%|          | 0/5073 [00:00<?, ?it/s]"
     ]
    },
    {
     "name": "stderr",
     "output_type": "stream",
     "text": [
      "100%|██████████| 5073/5073 [08:13<00:00, 10.28it/s]\n"
     ]
    }
   ],
   "source": [
    "import pandas as pd\n",
    "import requests\n",
    "import os\n",
    "from tqdm import tqdm\n",
    "\n",
    "def get_tmdb_id(imdb_id, api_key):\n",
    "    url = f'https://api.themoviedb.org/3/find/{imdb_id}?api_key={api_key}&external_source=imdb_id'\n",
    "    response = requests.get(url)\n",
    "    data = response.json()\n",
    "    if data['movie_results']:\n",
    "        return data['movie_results'][0]['id']\n",
    "    else:\n",
    "        return None\n",
    "\n",
    "# Get current working directory\n",
    "current_working_dir = os.getcwd()\n",
    "\n",
    "# Construct the full path to your file\n",
    "file_path = os.path.join(current_working_dir, \"data\", \"oscar_movies.csv\")\n",
    "\n",
    "# load data\n",
    "df = pd.read_csv(file_path)\n",
    "\n",
    "# replace with your actual API key\n",
    "api_key = '4ea37a8158ca566deb7455166dc1edda'\n",
    "\n",
    "# apply the function to get the tmdb_id with a progress bar\n",
    "tqdm.pandas()\n",
    "df['tmdb_id'] = df['imdb_id'].progress_apply(lambda x: get_tmdb_id(x, api_key))\n",
    "\n",
    "# saving the dataframe to a new csv file\n",
    "df.to_csv('./data/oscar_movies_with_tmdb_id.csv', index=False)\n"
   ]
  },
  {
   "cell_type": "code",
   "execution_count": 5,
   "metadata": {},
   "outputs": [
    {
     "name": "stderr",
     "output_type": "stream",
     "text": [
      "100%|██████████| 5073/5073 [07:16<00:00, 11.62it/s]\n"
     ]
    }
   ],
   "source": [
    "import pandas as pd\n",
    "import requests\n",
    "import os\n",
    "from tqdm import tqdm\n",
    "import numpy as np\n",
    "\n",
    "tqdm.pandas()\n",
    "\n",
    "def get_tmdb_id(imdb_id, api_key):\n",
    "    url = f'https://api.themoviedb.org/3/find/{imdb_id}?api_key={api_key}&external_source=imdb_id'\n",
    "    response = requests.get(url)\n",
    "    data = response.json()\n",
    "    if data['movie_results']:\n",
    "        return data['movie_results'][0]['id']\n",
    "    else:\n",
    "        return None\n",
    "\n",
    "# Get current working directory\n",
    "current_working_dir = os.getcwd()\n",
    "\n",
    "# Construct the full path to your file\n",
    "file_path = os.path.join(current_working_dir, \"data\", \"oscar_movies.csv\")\n",
    "\n",
    "# load data\n",
    "df = pd.read_csv(file_path)\n",
    "\n",
    "# replace with your actual API key\n",
    "api_key = '4ea37a8158ca566deb7455166dc1edda'\n",
    "\n",
    "# apply the function to get the tmdb_id\n",
    "df['tmdb_id'] = df['imdb_id'].progress_apply(lambda x: get_tmdb_id(x, api_key))\n",
    "\n",
    "# replace None with np.nan and convert tmdb_id to integer, then replace np.nan back to None\n",
    "df['tmdb_id'].replace({None: np.nan}, inplace=True)\n",
    "df['tmdb_id'] = df['tmdb_id'].astype(float).astype('Int64')\n",
    "df['tmdb_id'].replace({np.nan: None}, inplace=True)\n",
    "\n",
    "# saving the dataframe to a new csv file\n",
    "df.to_csv('./data/oscar_movies_with_tmdb_id.csv', index=False)\n"
   ]
  }
 ],
 "metadata": {
  "kernelspec": {
   "display_name": ".venv",
   "language": "python",
   "name": "python3"
  },
  "language_info": {
   "codemirror_mode": {
    "name": "ipython",
    "version": 3
   },
   "file_extension": ".py",
   "mimetype": "text/x-python",
   "name": "python",
   "nbconvert_exporter": "python",
   "pygments_lexer": "ipython3",
   "version": "3.11.3"
  },
  "orig_nbformat": 4
 },
 "nbformat": 4,
 "nbformat_minor": 2
}
