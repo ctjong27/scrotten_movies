{
 "cells": [
  {
   "cell_type": "code",
   "execution_count": 3,
   "metadata": {},
   "outputs": [
    {
     "name": "stdout",
     "output_type": "stream",
     "text": [
      "Collecting deepface\n",
      "  Using cached deepface-0.0.79-py3-none-any.whl (49 kB)\n",
      "Requirement already satisfied: numpy>=1.14.0 in c:\\users\\cjong\\projects\\python\\scrotten_movies\\.venv\\lib\\site-packages (from deepface) (1.24.3)\n",
      "Requirement already satisfied: pandas>=0.23.4 in c:\\users\\cjong\\projects\\python\\scrotten_movies\\.venv\\lib\\site-packages (from deepface) (2.0.3)\n",
      "Requirement already satisfied: tqdm>=4.30.0 in c:\\users\\cjong\\projects\\python\\scrotten_movies\\.venv\\lib\\site-packages (from deepface) (4.65.0)\n",
      "Collecting gdown>=3.10.1 (from deepface)\n",
      "  Using cached gdown-4.7.1-py3-none-any.whl (15 kB)\n",
      "Requirement already satisfied: Pillow>=5.2.0 in c:\\users\\cjong\\projects\\python\\scrotten_movies\\.venv\\lib\\site-packages (from deepface) (10.0.0)\n",
      "Collecting opencv-python>=4.5.5.64 (from deepface)\n",
      "  Using cached opencv_python-4.8.0.74-cp37-abi3-win_amd64.whl (38.1 MB)\n",
      "Collecting tensorflow>=1.9.0 (from deepface)\n",
      "  Using cached tensorflow-2.13.0-cp311-cp311-win_amd64.whl (1.9 kB)\n",
      "Collecting keras>=2.2.0 (from deepface)\n",
      "  Using cached keras-2.13.1-py3-none-any.whl (1.7 MB)\n",
      "Collecting Flask>=1.1.2 (from deepface)\n",
      "  Using cached Flask-2.3.2-py3-none-any.whl (96 kB)\n",
      "Collecting mtcnn>=0.1.0 (from deepface)\n",
      "  Using cached mtcnn-0.1.1-py3-none-any.whl (2.3 MB)\n",
      "Collecting retina-face>=0.0.1 (from deepface)\n",
      "  Using cached retina_face-0.0.13-py3-none-any.whl (16 kB)\n",
      "Collecting fire>=0.4.0 (from deepface)\n",
      "  Using cached fire-0.5.0-py2.py3-none-any.whl\n",
      "Collecting gunicorn>=20.1.0 (from deepface)\n",
      "  Using cached gunicorn-21.1.0-py3-none-any.whl (80 kB)\n",
      "Requirement already satisfied: six in c:\\users\\cjong\\projects\\python\\scrotten_movies\\.venv\\lib\\site-packages (from fire>=0.4.0->deepface) (1.16.0)\n",
      "Requirement already satisfied: termcolor in c:\\users\\cjong\\projects\\python\\scrotten_movies\\.venv\\lib\\site-packages (from fire>=0.4.0->deepface) (2.3.0)\n",
      "Collecting Werkzeug>=2.3.3 (from Flask>=1.1.2->deepface)\n",
      "  Using cached Werkzeug-2.3.6-py3-none-any.whl (242 kB)\n",
      "Collecting Jinja2>=3.1.2 (from Flask>=1.1.2->deepface)\n",
      "  Using cached Jinja2-3.1.2-py3-none-any.whl (133 kB)\n",
      "Collecting itsdangerous>=2.1.2 (from Flask>=1.1.2->deepface)\n",
      "  Using cached itsdangerous-2.1.2-py3-none-any.whl (15 kB)\n",
      "Collecting click>=8.1.3 (from Flask>=1.1.2->deepface)\n",
      "  Using cached click-8.1.6-py3-none-any.whl (97 kB)\n",
      "Collecting blinker>=1.6.2 (from Flask>=1.1.2->deepface)\n",
      "  Using cached blinker-1.6.2-py3-none-any.whl (13 kB)\n",
      "Collecting filelock (from gdown>=3.10.1->deepface)\n",
      "  Using cached filelock-3.12.2-py3-none-any.whl (10 kB)\n",
      "Requirement already satisfied: requests[socks] in c:\\users\\cjong\\projects\\python\\scrotten_movies\\.venv\\lib\\site-packages (from gdown>=3.10.1->deepface) (2.31.0)\n",
      "Requirement already satisfied: beautifulsoup4 in c:\\users\\cjong\\projects\\python\\scrotten_movies\\.venv\\lib\\site-packages (from gdown>=3.10.1->deepface) (4.12.2)\n",
      "Requirement already satisfied: packaging in c:\\users\\cjong\\projects\\python\\scrotten_movies\\.venv\\lib\\site-packages (from gunicorn>=20.1.0->deepface) (23.1)\n",
      "Requirement already satisfied: python-dateutil>=2.8.2 in c:\\users\\cjong\\projects\\python\\scrotten_movies\\.venv\\lib\\site-packages (from pandas>=0.23.4->deepface) (2.8.2)\n",
      "Requirement already satisfied: pytz>=2020.1 in c:\\users\\cjong\\projects\\python\\scrotten_movies\\.venv\\lib\\site-packages (from pandas>=0.23.4->deepface) (2023.3)\n",
      "Requirement already satisfied: tzdata>=2022.1 in c:\\users\\cjong\\projects\\python\\scrotten_movies\\.venv\\lib\\site-packages (from pandas>=0.23.4->deepface) (2023.3)\n",
      "Collecting tensorflow-intel==2.13.0 (from tensorflow>=1.9.0->deepface)\n",
      "  Using cached tensorflow_intel-2.13.0-cp311-cp311-win_amd64.whl (276.6 MB)\n",
      "Collecting absl-py>=1.0.0 (from tensorflow-intel==2.13.0->tensorflow>=1.9.0->deepface)\n",
      "  Using cached absl_py-1.4.0-py3-none-any.whl (126 kB)\n",
      "Collecting astunparse>=1.6.0 (from tensorflow-intel==2.13.0->tensorflow>=1.9.0->deepface)\n",
      "  Using cached astunparse-1.6.3-py2.py3-none-any.whl (12 kB)\n",
      "Requirement already satisfied: flatbuffers>=23.1.21 in c:\\users\\cjong\\projects\\python\\scrotten_movies\\.venv\\lib\\site-packages (from tensorflow-intel==2.13.0->tensorflow>=1.9.0->deepface) (23.5.26)\n",
      "Collecting gast<=0.4.0,>=0.2.1 (from tensorflow-intel==2.13.0->tensorflow>=1.9.0->deepface)\n",
      "  Using cached gast-0.4.0-py3-none-any.whl (9.8 kB)\n",
      "Collecting google-pasta>=0.1.1 (from tensorflow-intel==2.13.0->tensorflow>=1.9.0->deepface)\n",
      "  Using cached google_pasta-0.2.0-py3-none-any.whl (57 kB)\n",
      "Collecting h5py>=2.9.0 (from tensorflow-intel==2.13.0->tensorflow>=1.9.0->deepface)\n",
      "  Using cached h5py-3.9.0-cp311-cp311-win_amd64.whl (2.7 MB)\n",
      "Requirement already satisfied: libclang>=13.0.0 in c:\\users\\cjong\\projects\\python\\scrotten_movies\\.venv\\lib\\site-packages (from tensorflow-intel==2.13.0->tensorflow>=1.9.0->deepface) (16.0.6)\n",
      "Collecting opt-einsum>=2.3.2 (from tensorflow-intel==2.13.0->tensorflow>=1.9.0->deepface)\n",
      "  Using cached opt_einsum-3.3.0-py3-none-any.whl (65 kB)\n",
      "Requirement already satisfied: protobuf!=4.21.0,!=4.21.1,!=4.21.2,!=4.21.3,!=4.21.4,!=4.21.5,<5.0.0dev,>=3.20.3 in c:\\users\\cjong\\projects\\python\\scrotten_movies\\.venv\\lib\\site-packages (from tensorflow-intel==2.13.0->tensorflow>=1.9.0->deepface) (4.23.4)\n",
      "Requirement already satisfied: setuptools in c:\\users\\cjong\\projects\\python\\scrotten_movies\\.venv\\lib\\site-packages (from tensorflow-intel==2.13.0->tensorflow>=1.9.0->deepface) (65.5.0)\n",
      "Requirement already satisfied: typing-extensions<4.6.0,>=3.6.6 in c:\\users\\cjong\\projects\\python\\scrotten_movies\\.venv\\lib\\site-packages (from tensorflow-intel==2.13.0->tensorflow>=1.9.0->deepface) (4.5.0)\n",
      "Requirement already satisfied: wrapt>=1.11.0 in c:\\users\\cjong\\projects\\python\\scrotten_movies\\.venv\\lib\\site-packages (from tensorflow-intel==2.13.0->tensorflow>=1.9.0->deepface) (1.15.0)\n",
      "Collecting grpcio<2.0,>=1.24.3 (from tensorflow-intel==2.13.0->tensorflow>=1.9.0->deepface)\n",
      "  Using cached grpcio-1.56.0-cp311-cp311-win_amd64.whl (4.2 MB)\n",
      "Collecting tensorboard<2.14,>=2.13 (from tensorflow-intel==2.13.0->tensorflow>=1.9.0->deepface)\n",
      "  Using cached tensorboard-2.13.0-py3-none-any.whl (5.6 MB)\n",
      "Requirement already satisfied: tensorflow-estimator<2.14,>=2.13.0 in c:\\users\\cjong\\projects\\python\\scrotten_movies\\.venv\\lib\\site-packages (from tensorflow-intel==2.13.0->tensorflow>=1.9.0->deepface) (2.13.0)\n",
      "Requirement already satisfied: tensorflow-io-gcs-filesystem>=0.23.1 in c:\\users\\cjong\\projects\\python\\scrotten_movies\\.venv\\lib\\site-packages (from tensorflow-intel==2.13.0->tensorflow>=1.9.0->deepface) (0.31.0)\n",
      "Requirement already satisfied: colorama in c:\\users\\cjong\\projects\\python\\scrotten_movies\\.venv\\lib\\site-packages (from tqdm>=4.30.0->deepface) (0.4.6)\n",
      "Collecting MarkupSafe>=2.0 (from Jinja2>=3.1.2->Flask>=1.1.2->deepface)\n",
      "  Using cached MarkupSafe-2.1.3-cp311-cp311-win_amd64.whl (17 kB)\n",
      "Requirement already satisfied: soupsieve>1.2 in c:\\users\\cjong\\projects\\python\\scrotten_movies\\.venv\\lib\\site-packages (from beautifulsoup4->gdown>=3.10.1->deepface) (2.4.1)\n",
      "Requirement already satisfied: charset-normalizer<4,>=2 in c:\\users\\cjong\\projects\\python\\scrotten_movies\\.venv\\lib\\site-packages (from requests[socks]->gdown>=3.10.1->deepface) (3.1.0)\n",
      "Requirement already satisfied: idna<4,>=2.5 in c:\\users\\cjong\\projects\\python\\scrotten_movies\\.venv\\lib\\site-packages (from requests[socks]->gdown>=3.10.1->deepface) (3.4)\n",
      "Requirement already satisfied: urllib3<3,>=1.21.1 in c:\\users\\cjong\\projects\\python\\scrotten_movies\\.venv\\lib\\site-packages (from requests[socks]->gdown>=3.10.1->deepface) (1.26.16)\n",
      "Requirement already satisfied: certifi>=2017.4.17 in c:\\users\\cjong\\projects\\python\\scrotten_movies\\.venv\\lib\\site-packages (from requests[socks]->gdown>=3.10.1->deepface) (2023.5.7)\n",
      "Requirement already satisfied: PySocks!=1.5.7,>=1.5.6 in c:\\users\\cjong\\projects\\python\\scrotten_movies\\.venv\\lib\\site-packages (from requests[socks]->gdown>=3.10.1->deepface) (1.7.1)\n",
      "Requirement already satisfied: wheel<1.0,>=0.23.0 in c:\\users\\cjong\\projects\\python\\scrotten_movies\\.venv\\lib\\site-packages (from astunparse>=1.6.0->tensorflow-intel==2.13.0->tensorflow>=1.9.0->deepface) (0.40.0)\n",
      "Collecting google-auth<3,>=1.6.3 (from tensorboard<2.14,>=2.13->tensorflow-intel==2.13.0->tensorflow>=1.9.0->deepface)\n",
      "  Using cached google_auth-2.22.0-py2.py3-none-any.whl (181 kB)\n",
      "Collecting google-auth-oauthlib<1.1,>=0.5 (from tensorboard<2.14,>=2.13->tensorflow-intel==2.13.0->tensorflow>=1.9.0->deepface)\n",
      "  Using cached google_auth_oauthlib-1.0.0-py2.py3-none-any.whl (18 kB)\n",
      "Collecting markdown>=2.6.8 (from tensorboard<2.14,>=2.13->tensorflow-intel==2.13.0->tensorflow>=1.9.0->deepface)\n",
      "  Using cached Markdown-3.4.3-py3-none-any.whl (93 kB)\n",
      "Requirement already satisfied: tensorboard-data-server<0.8.0,>=0.7.0 in c:\\users\\cjong\\projects\\python\\scrotten_movies\\.venv\\lib\\site-packages (from tensorboard<2.14,>=2.13->tensorflow-intel==2.13.0->tensorflow>=1.9.0->deepface) (0.7.1)\n",
      "Collecting cachetools<6.0,>=2.0.0 (from google-auth<3,>=1.6.3->tensorboard<2.14,>=2.13->tensorflow-intel==2.13.0->tensorflow>=1.9.0->deepface)\n",
      "  Using cached cachetools-5.3.1-py3-none-any.whl (9.3 kB)\n",
      "Collecting pyasn1-modules>=0.2.1 (from google-auth<3,>=1.6.3->tensorboard<2.14,>=2.13->tensorflow-intel==2.13.0->tensorflow>=1.9.0->deepface)\n",
      "  Using cached pyasn1_modules-0.3.0-py2.py3-none-any.whl (181 kB)\n",
      "Collecting rsa<5,>=3.1.4 (from google-auth<3,>=1.6.3->tensorboard<2.14,>=2.13->tensorflow-intel==2.13.0->tensorflow>=1.9.0->deepface)\n",
      "  Using cached rsa-4.9-py3-none-any.whl (34 kB)\n",
      "Collecting requests-oauthlib>=0.7.0 (from google-auth-oauthlib<1.1,>=0.5->tensorboard<2.14,>=2.13->tensorflow-intel==2.13.0->tensorflow>=1.9.0->deepface)\n",
      "  Using cached requests_oauthlib-1.3.1-py2.py3-none-any.whl (23 kB)\n",
      "Requirement already satisfied: pyasn1<0.6.0,>=0.4.6 in c:\\users\\cjong\\projects\\python\\scrotten_movies\\.venv\\lib\\site-packages (from pyasn1-modules>=0.2.1->google-auth<3,>=1.6.3->tensorboard<2.14,>=2.13->tensorflow-intel==2.13.0->tensorflow>=1.9.0->deepface) (0.5.0)\n",
      "Requirement already satisfied: oauthlib>=3.0.0 in c:\\users\\cjong\\projects\\python\\scrotten_movies\\.venv\\lib\\site-packages (from requests-oauthlib>=0.7.0->google-auth-oauthlib<1.1,>=0.5->tensorboard<2.14,>=2.13->tensorflow-intel==2.13.0->tensorflow>=1.9.0->deepface) (3.2.2)\n",
      "Installing collected packages: rsa, pyasn1-modules, opt-einsum, opencv-python, MarkupSafe, markdown, keras, itsdangerous, h5py, gunicorn, grpcio, google-pasta, gast, fire, filelock, click, cachetools, blinker, astunparse, absl-py, Werkzeug, requests-oauthlib, mtcnn, Jinja2, google-auth, google-auth-oauthlib, gdown, Flask, tensorboard, tensorflow-intel, tensorflow, retina-face, deepface\n",
      "Successfully installed Flask-2.3.2 Jinja2-3.1.2 MarkupSafe-2.1.3 Werkzeug-2.3.6 absl-py-1.4.0 astunparse-1.6.3 blinker-1.6.2 cachetools-5.3.1 click-8.1.6 deepface-0.0.79 filelock-3.12.2 fire-0.5.0 gast-0.4.0 gdown-4.7.1 google-auth-2.22.0 google-auth-oauthlib-1.0.0 google-pasta-0.2.0 grpcio-1.56.0 gunicorn-21.1.0 h5py-3.9.0 itsdangerous-2.1.2 keras-2.13.1 markdown-3.4.3 mtcnn-0.1.1 opencv-python-4.8.0.74 opt-einsum-3.3.0 pyasn1-modules-0.3.0 requests-oauthlib-1.3.1 retina-face-0.0.13 rsa-4.9 tensorboard-2.13.0 tensorflow-2.13.0 tensorflow-intel-2.13.0\n",
      "Note: you may need to restart the kernel to use updated packages.\n"
     ]
    },
    {
     "name": "stderr",
     "output_type": "stream",
     "text": [
      "\n",
      "[notice] A new release of pip is available: 23.1.2 -> 23.2\n",
      "[notice] To update, run: python.exe -m pip install --upgrade pip\n"
     ]
    }
   ],
   "source": [
    "%pip install deepface"
   ]
  },
  {
   "cell_type": "code",
   "execution_count": 2,
   "metadata": {},
   "outputs": [
    {
     "ename": "ModuleNotFoundError",
     "evalue": "No module named 'deepface'",
     "output_type": "error",
     "traceback": [
      "\u001b[1;31m---------------------------------------------------------------------------\u001b[0m",
      "\u001b[1;31mModuleNotFoundError\u001b[0m                       Traceback (most recent call last)",
      "Cell \u001b[1;32mIn[2], line 1\u001b[0m\n\u001b[1;32m----> 1\u001b[0m \u001b[39mfrom\u001b[39;00m \u001b[39mdeepface\u001b[39;00m \u001b[39mimport\u001b[39;00m DeepFace\n\u001b[0;32m      3\u001b[0m \u001b[39m# specify the image path (you can use a local path or a url)\u001b[39;00m\n\u001b[0;32m      4\u001b[0m img_path \u001b[39m=\u001b[39m \u001b[39m'\u001b[39m\u001b[39mhttps://image.tmdb.org/t/p/w300_and_h450_bestv2/jWyPz8zzzLCw3zlUC2wrrjiuSqm.jpg\u001b[39m\u001b[39m'\u001b[39m\n",
      "\u001b[1;31mModuleNotFoundError\u001b[0m: No module named 'deepface'"
     ]
    }
   ],
   "source": [
    "from deepface import DeepFace\n",
    "\n",
    "# specify the image path (you can use a local path or a url)\n",
    "img_path = 'https://image.tmdb.org/t/p/w300_and_h450_bestv2/jWyPz8zzzLCw3zlUC2wrrjiuSqm.jpg'\n",
    "\n",
    "# use DeepFace to analyze the image\n",
    "result = DeepFace.analyze(img_path, actions = ['age', 'gender', 'race', 'emotion'])\n",
    "\n",
    "# print the results\n",
    "print(\"Age: \", result[\"age\"])\n",
    "print(\"Gender: \", result[\"gender\"])\n",
    "print(\"Race: \", result[\"dominant_race\"])\n",
    "print(\"Emotion: \", result[\"dominant_emotion\"])\n"
   ]
  },
  {
   "cell_type": "code",
   "execution_count": 3,
   "metadata": {},
   "outputs": [
    {
     "ename": "ModuleNotFoundError",
     "evalue": "No module named 'PIL'",
     "output_type": "error",
     "traceback": [
      "\u001b[1;31m---------------------------------------------------------------------------\u001b[0m",
      "\u001b[1;31mModuleNotFoundError\u001b[0m                       Traceback (most recent call last)",
      "Cell \u001b[1;32mIn[3], line 2\u001b[0m\n\u001b[0;32m      1\u001b[0m \u001b[39mimport\u001b[39;00m \u001b[39mrequests\u001b[39;00m\n\u001b[1;32m----> 2\u001b[0m \u001b[39mfrom\u001b[39;00m \u001b[39mPIL\u001b[39;00m \u001b[39mimport\u001b[39;00m Image\n\u001b[0;32m      3\u001b[0m \u001b[39mfrom\u001b[39;00m \u001b[39mio\u001b[39;00m \u001b[39mimport\u001b[39;00m BytesIO\n\u001b[0;32m      4\u001b[0m \u001b[39mimport\u001b[39;00m \u001b[39mnumpy\u001b[39;00m \u001b[39mas\u001b[39;00m \u001b[39mnp\u001b[39;00m\n",
      "\u001b[1;31mModuleNotFoundError\u001b[0m: No module named 'PIL'"
     ]
    }
   ],
   "source": [
    "import requests\n",
    "from PIL import Image\n",
    "from io import BytesIO\n",
    "import numpy as np\n",
    "from some_face_recognition_library import FaceRecognitionModel\n",
    "from some_ethnicity_classification_library import EthnicityClassificationModel\n",
    "\n",
    "# Download the image\n",
    "response = requests.get('https://image.tmdb.org/t/p/w300_and_h450_bestv2/jWyPz8zzzLCw3zlUC2wrrjiuSqm.jpg')\n",
    "img = Image.open(BytesIO(response.content))\n",
    "\n",
    "# Convert image to NumPy array\n",
    "img_np = np.array(img)\n",
    "\n",
    "# Load pre-trained models\n",
    "face_recognition_model = FaceRecognitionModel()\n",
    "ethnicity_classifier = EthnicityClassificationModel()\n",
    "\n",
    "# Detect face\n",
    "face = face_recognition_model.detect_face(img_np)\n",
    "\n",
    "# Predict ethnicity\n",
    "ethnicity = ethnicity_classifier.predict(face)\n",
    "\n",
    "print(ethnicity)\n"
   ]
  },
  {
   "cell_type": "code",
   "execution_count": 4,
   "metadata": {},
   "outputs": [
    {
     "name": "stdout",
     "output_type": "stream",
     "text": [
      "English\n"
     ]
    }
   ],
   "source": [
    "# A very simplified example\n",
    "name_ethnicity_dict = {\n",
    "    \"James Smith\": \"English\",\n",
    "    \"Li Wei\": \"Chinese\",\n",
    "    \"Miguel Hernandez\": \"Spanish\",\n",
    "    \"Priya Kapoor\": \"Indian\",\n",
    "    \"Abdullah Mohammed\": \"Arabic\",\n",
    "    # More names here...\n",
    "}\n",
    "\n",
    "def determine_ethnicity(first_name, last_name):\n",
    "    full_name = first_name + \" \" + last_name\n",
    "    ethnicity = name_ethnicity_dict.get(full_name)\n",
    "    \n",
    "    if ethnicity is not None:\n",
    "        return ethnicity\n",
    "    else:\n",
    "        return \"Unknown\"\n",
    "\n",
    "# Usage\n",
    "first_name = \"James\"\n",
    "last_name = \"Smith\"\n",
    "\n",
    "print(determine_ethnicity(first_name, last_name))\n"
   ]
  }
 ],
 "metadata": {
  "kernelspec": {
   "display_name": ".venv",
   "language": "python",
   "name": "python3"
  },
  "language_info": {
   "codemirror_mode": {
    "name": "ipython",
    "version": 3
   },
   "file_extension": ".py",
   "mimetype": "text/x-python",
   "name": "python",
   "nbconvert_exporter": "python",
   "pygments_lexer": "ipython3",
   "version": "3.11.3"
  },
  "orig_nbformat": 4
 },
 "nbformat": 4,
 "nbformat_minor": 2
}
