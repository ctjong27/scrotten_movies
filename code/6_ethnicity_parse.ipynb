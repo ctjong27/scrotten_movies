{
 "cells": [
  {
   "cell_type": "code",
   "execution_count": 2,
   "metadata": {},
   "outputs": [
    {
     "name": "stdout",
     "output_type": "stream",
     "text": [
      "Note: you may need to restart the kernel to use updated packages.\n"
     ]
    },
    {
     "name": "stderr",
     "output_type": "stream",
     "text": [
      "ERROR: Could not find a version that satisfies the requirement PIL (from versions: none)\n",
      "ERROR: No matching distribution found for PIL\n",
      "\n",
      "[notice] A new release of pip is available: 23.1.2 -> 23.2\n",
      "[notice] To update, run: python.exe -m pip install --upgrade pip\n"
     ]
    }
   ],
   "source": [
    "%pip install PIL"
   ]
  },
  {
   "cell_type": "code",
   "execution_count": 3,
   "metadata": {},
   "outputs": [
    {
     "ename": "ModuleNotFoundError",
     "evalue": "No module named 'PIL'",
     "output_type": "error",
     "traceback": [
      "\u001b[1;31m---------------------------------------------------------------------------\u001b[0m",
      "\u001b[1;31mModuleNotFoundError\u001b[0m                       Traceback (most recent call last)",
      "Cell \u001b[1;32mIn[3], line 2\u001b[0m\n\u001b[0;32m      1\u001b[0m \u001b[39mimport\u001b[39;00m \u001b[39mrequests\u001b[39;00m\n\u001b[1;32m----> 2\u001b[0m \u001b[39mfrom\u001b[39;00m \u001b[39mPIL\u001b[39;00m \u001b[39mimport\u001b[39;00m Image\n\u001b[0;32m      3\u001b[0m \u001b[39mfrom\u001b[39;00m \u001b[39mio\u001b[39;00m \u001b[39mimport\u001b[39;00m BytesIO\n\u001b[0;32m      4\u001b[0m \u001b[39mimport\u001b[39;00m \u001b[39mnumpy\u001b[39;00m \u001b[39mas\u001b[39;00m \u001b[39mnp\u001b[39;00m\n",
      "\u001b[1;31mModuleNotFoundError\u001b[0m: No module named 'PIL'"
     ]
    }
   ],
   "source": [
    "import requests\n",
    "from PIL import Image\n",
    "from io import BytesIO\n",
    "import numpy as np\n",
    "from some_face_recognition_library import FaceRecognitionModel\n",
    "from some_ethnicity_classification_library import EthnicityClassificationModel\n",
    "\n",
    "# Download the image\n",
    "response = requests.get('https://image.tmdb.org/t/p/w300_and_h450_bestv2/jWyPz8zzzLCw3zlUC2wrrjiuSqm.jpg')\n",
    "img = Image.open(BytesIO(response.content))\n",
    "\n",
    "# Convert image to NumPy array\n",
    "img_np = np.array(img)\n",
    "\n",
    "# Load pre-trained models\n",
    "face_recognition_model = FaceRecognitionModel()\n",
    "ethnicity_classifier = EthnicityClassificationModel()\n",
    "\n",
    "# Detect face\n",
    "face = face_recognition_model.detect_face(img_np)\n",
    "\n",
    "# Predict ethnicity\n",
    "ethnicity = ethnicity_classifier.predict(face)\n",
    "\n",
    "print(ethnicity)\n"
   ]
  },
  {
   "cell_type": "code",
   "execution_count": 4,
   "metadata": {},
   "outputs": [
    {
     "name": "stdout",
     "output_type": "stream",
     "text": [
      "English\n"
     ]
    }
   ],
   "source": [
    "# A very simplified example\n",
    "name_ethnicity_dict = {\n",
    "    \"James Smith\": \"English\",\n",
    "    \"Li Wei\": \"Chinese\",\n",
    "    \"Miguel Hernandez\": \"Spanish\",\n",
    "    \"Priya Kapoor\": \"Indian\",\n",
    "    \"Abdullah Mohammed\": \"Arabic\",\n",
    "    # More names here...\n",
    "}\n",
    "\n",
    "def determine_ethnicity(first_name, last_name):\n",
    "    full_name = first_name + \" \" + last_name\n",
    "    ethnicity = name_ethnicity_dict.get(full_name)\n",
    "    \n",
    "    if ethnicity is not None:\n",
    "        return ethnicity\n",
    "    else:\n",
    "        return \"Unknown\"\n",
    "\n",
    "# Usage\n",
    "first_name = \"James\"\n",
    "last_name = \"Smith\"\n",
    "\n",
    "print(determine_ethnicity(first_name, last_name))\n"
   ]
  }
 ],
 "metadata": {
  "kernelspec": {
   "display_name": ".venv",
   "language": "python",
   "name": "python3"
  },
  "language_info": {
   "codemirror_mode": {
    "name": "ipython",
    "version": 3
   },
   "file_extension": ".py",
   "mimetype": "text/x-python",
   "name": "python",
   "nbconvert_exporter": "python",
   "pygments_lexer": "ipython3",
   "version": "3.11.3"
  },
  "orig_nbformat": 4
 },
 "nbformat": 4,
 "nbformat_minor": 2
}
